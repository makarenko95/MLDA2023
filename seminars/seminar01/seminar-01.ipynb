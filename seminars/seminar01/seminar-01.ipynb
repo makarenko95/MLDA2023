{
 "cells": [
  {
   "cell_type": "markdown",
   "metadata": {},
   "source": [
    "# Семинар 1. Основные библиотеки для работы с данными в Python\n",
    "\n",
    "Список основных библиотек:\n",
    "* __numpy__ -- линейная алгебра, математические операции над матрицами и векторами ([сайт](https://docs.scipy.org/doc/numpy/reference/)).\n",
    "* __scipy__ -- научные вычисления ([сайт](https://docs.scipy.org/doc/scipy/reference/)).\n",
    "* __pandas__ -- табличные данные ([сайт](https://pandas.pydata.org/docs/)).\n",
    "* __scikit-learn aka sklean__ -- алгоритмы машинного обучения ([сайт](https://scikit-learn.org/)).\n",
    "* __statsmodels__ -- прикладная статистика, статистические тесты, анализ временных рядов ([сайт](https://www.statsmodels.org)).\n",
    "* __matplotlib + pyplot__ -- визуализация ([сайт](https://matplotlib.org/)).\n",
    "* __seaborn__ -- продвинутая статистическая визуализация ([сайт](https://seaborn.pydata.org/)).\n",
    "\n",
    "Примеры и туториалы по этим библиотекам:\n",
    "* [Отличные уроки по визуализации в matplotlib](https://nbviewer.jupyter.org/github/whitehorn/Scientific_graphics_in_python/blob/master/P1%20Chapter%201%20Pyplot.ipynb)\n",
    "* [Лекции по scipy и numpy](http://scipy-lectures.org/index.html)\n",
    "* [Шпаргалка по pandas](https://github.com/pandas-dev/pandas/blob/master/doc/cheatsheet/Pandas_Cheat_Sheet.pdf)"
   ]
  },
  {
   "cell_type": "markdown",
   "metadata": {},
   "source": [
    "## Работа в Jupyter Notebook\n",
    "\n",
    "Jupyter Notebook является удобной средой для проведения экспериментов и выполнения кода в интерактивном режиме. Код в ноутбуке поделен на ячейки. Выполнять их можно в любом порядке, каждое выполнение вносит изменения в рабочую среду.\n",
    "\n",
    "У ноутбука есть два режима:\n",
    "1. командный режим -- синий контур у ячейки;\n",
    "2. режим редактирования -- зеленый контур для ячейки.\n",
    "\n",
    "Ячейки бывают 3 типов:\n",
    "1. `Code` -- при выполнении ячейки выполняется соответствующий код (`In []:` слева от ячейки).\n",
    "2. `Markdown` -- при выполнении ячейки, текст оформляется красивенько (текущая ячейка имеет такой тип).\n",
    "3. `Raw` -- сырые данные, которые никак не используются.\n",
    "\n",
    "Краткий справочник команд для командного режима:\n",
    "1. `Escape` --  перейти в командный режим.\n",
    "2. `A` -- добавить ячейку перед текущей;\n",
    "3. `B` -- добавить ячейку после текущей;\n",
    "4. `d-d` -- удалить текущую ячейку;\n",
    "5. `C` -- скопировать текущую ячейку;\n",
    "6. `X` -- вырезать текущую ячейку;\n",
    "7. `V` -- вставить скопированную ячейку после текущей;\n",
    "8. `Z` -- отменить удаление ячейки;\n",
    "9. `Y` -- назначить тип ячейки *code*;\n",
    "10. `M` -- назначить тип ячейки *markdown*;\n",
    "11. `R` -- назначить тип ячейки *raw*;\n",
    "12. `Ctrl+Enter` -- выполнить текущую ячейку (доступно в режиме редактирования);\n",
    "13. `Shift+Enter` -- выполнить текущую ячейку и перейти к следующей (доступно в режиме редактирования).\n",
    "\n",
    "В дополнение несколько полезных ссылок:\n",
    "* [Markdown Cheat Sheet](http://nestacms.com/docs/creating-content/markdown-cheat-sheet)\n",
    "* [Advanced Jupyter Notebook Tricks](https://blog.dominodatalab.com/lesser-known-ways-of-using-notebooks/)"
   ]
  },
  {
   "cell_type": "markdown",
   "metadata": {},
   "source": [
    "## 1. Библиотека NumPy"
   ]
  },
  {
   "cell_type": "code",
   "execution_count": null,
   "metadata": {},
   "outputs": [],
   "source": [
    "import numpy as np\n",
    "\n",
    "np.__version__"
   ]
  },
  {
   "cell_type": "markdown",
   "metadata": {},
   "source": [
    "## 1.1. Векторы "
   ]
  },
  {
   "cell_type": "code",
   "execution_count": null,
   "metadata": {},
   "outputs": [],
   "source": [
    "# создание вектора\n",
    "x = np.array([1, 2, 4]) \n",
    "y = np.array([0.5, 1.0, -0.5])\n",
    "\n",
    "# можно создавать из листа\n",
    "l = [1, 2, 3.0, 5, 6]\n",
    "l = np.array(l)\n",
    "\n",
    "# вектор со случайных чисел\n",
    "z = np.random.normal(size=3)"
   ]
  },
  {
   "cell_type": "code",
   "execution_count": null,
   "metadata": {},
   "outputs": [],
   "source": [
    "a = 0.1\n",
    "\n",
    "print('x =', x)\n",
    "print('y =', y)\n",
    "print('z =', z)\n",
    "print('l =', l)\n",
    "print('Размерность x:', x.shape)"
   ]
  },
  {
   "cell_type": "code",
   "execution_count": null,
   "metadata": {},
   "outputs": [],
   "source": [
    "# вектор из нулей\n",
    "print('np.zeros(3) =', np.zeros(3))\n",
    "\n",
    "# вектор из единиц\n",
    "print('np.ones(shape=4) =', np.ones(shape=4))\n",
    "\n",
    "# сетка с шагом\n",
    "print('np.arange(1, 2, 0.25) =', np.arange(1, 2, 0.25)) # правая точка не включается\n",
    "\n",
    "# сетка с n узлами\n",
    "print('np.linspace(1, 2, 5) =', np.linspace(1, 2, 5)) # а здесь включается"
   ]
  },
  {
   "cell_type": "code",
   "execution_count": null,
   "metadata": {},
   "outputs": [],
   "source": [
    "# вектор и число: +, -, *, /\n",
    "print('x * a =', x * a)\n",
    "print('a / x =', a / x)"
   ]
  },
  {
   "cell_type": "code",
   "execution_count": null,
   "metadata": {},
   "outputs": [],
   "source": [
    "# вектор и вектор\n",
    "# покомпонентно +, -, *, /\n",
    "print('x + y =', x + y)\n",
    "print('x * y =', x * y)\n",
    "print('x / y =', x / y)"
   ]
  },
  {
   "cell_type": "code",
   "execution_count": null,
   "metadata": {},
   "outputs": [],
   "source": [
    "# скалярное произведение\n",
    "print('np.dot(x, y) =', np.dot(x, y))\n",
    "print('x @ y =', x @ y)"
   ]
  },
  {
   "cell_type": "code",
   "execution_count": null,
   "metadata": {},
   "outputs": [],
   "source": [
    "# склейка векторов\n",
    "# сюда надо передать лист из векторов, которые будут склеены\n",
    "print('np.concatenate([x, y]) =', np.concatenate([x, y]))\n",
    "print('np.concatenate([x, y, x]) =', np.concatenate([x, y, x]))"
   ]
  },
  {
   "cell_type": "markdown",
   "metadata": {},
   "source": [
    "## 1.2. Матрицы"
   ]
  },
  {
   "cell_type": "code",
   "execution_count": null,
   "metadata": {},
   "outputs": [],
   "source": [
    "# матрица\n",
    "A = np.array([[1,2],[0,1]])\n",
    "B = np.array([[2, 3, 0], [0, 1, 1]])\n",
    "C = np.random.normal(size=(2, 3))"
   ]
  },
  {
   "cell_type": "code",
   "execution_count": null,
   "metadata": {},
   "outputs": [],
   "source": [
    "print('A, размерность:', A.shape); print(A)\n",
    "print('B, размерность:', B.shape); print(B)\n",
    "print('C, размерность:', C.shape); print(C)"
   ]
  },
  {
   "cell_type": "code",
   "execution_count": null,
   "metadata": {},
   "outputs": [],
   "source": [
    "# матрица из нулей\n",
    "zeros = np.zeros(shape=(4,3))\n",
    "print('zeros, размерность:', zeros.shape); print(zeros)\n",
    "\n",
    "# матрица из единиц\n",
    "ones = np.ones(shape=(4,3))\n",
    "print('ones, размерность:', ones.shape); print(ones)\n",
    "\n",
    "# единичная матрица\n",
    "eye = np.eye(4, 3)\n",
    "print('eye, размерность:', eye.shape); print(eye)\n",
    "\n",
    "# создание матрицы нулей или единиц по аналогу с существующей\n",
    "zeros_like_B = np.zeros_like(B)\n",
    "print('zeros_like_B, размерность:', zeros_like_B.shape); print(zeros_like_B)"
   ]
  },
  {
   "cell_type": "code",
   "execution_count": null,
   "metadata": {},
   "outputs": [],
   "source": [
    "# матрица и число аналогично векторам\n",
    "# матрица и вектор\n",
    "print('B @ x =', B @ x)"
   ]
  },
  {
   "cell_type": "code",
   "execution_count": null,
   "metadata": {},
   "outputs": [],
   "source": [
    "# матрица и матрица\n",
    "print('A @ B:'); print(A @ B)\n",
    "print('np.matmul(A, B):'); print(np.matmul(A, B))"
   ]
  },
  {
   "cell_type": "code",
   "execution_count": null,
   "metadata": {},
   "outputs": [],
   "source": [
    "# транспонирование\n",
    "print('B.T, размерность:', B.T.shape); print(B.T)\n",
    "print('np.transpose(B), размерность:', np.transpose(B).shape)\n",
    "print(np.transpose(B))"
   ]
  },
  {
   "cell_type": "code",
   "execution_count": null,
   "metadata": {},
   "outputs": [],
   "source": [
    "# определитель и обращение матриц\n",
    "print('np.linalg.det(A) =', np.linalg.det(A))\n",
    "print('np.linalg.inv(A) =', np.linalg.inv(A))"
   ]
  },
  {
   "cell_type": "markdown",
   "metadata": {},
   "source": [
    "## 1.3. Покомпонентные операции над векторами и матрицами"
   ]
  },
  {
   "cell_type": "code",
   "execution_count": null,
   "metadata": {},
   "outputs": [],
   "source": [
    "print('x =', x)\n",
    "print('y =', y)"
   ]
  },
  {
   "cell_type": "code",
   "execution_count": null,
   "metadata": {},
   "outputs": [],
   "source": [
    "print('np.sin(x) =', np.sin(x))\n",
    "print('np.cos(x) =', np.cos(x))\n",
    "print('np.tan(x) =', np.tan(x))"
   ]
  },
  {
   "cell_type": "code",
   "execution_count": null,
   "metadata": {},
   "outputs": [],
   "source": [
    "print('np.exp(x) =', np.exp(x))\n",
    "print('np.log(x) =', np.log(x)) # натуральный логарифм\n",
    "print('np.log2(x) =', np.log2(x)) # натуральный логарифм"
   ]
  },
  {
   "cell_type": "code",
   "execution_count": null,
   "metadata": {},
   "outputs": [],
   "source": [
    "print('np.abs(y) =', np.abs(y))\n",
    "print('np.sqrt(x) =', np.sqrt(x))\n",
    "print('np.power(x, 2) =', np.power(x, 2))\n",
    "print('np.power(10, x) =', np.power(10, x))"
   ]
  },
  {
   "cell_type": "code",
   "execution_count": null,
   "metadata": {},
   "outputs": [],
   "source": [
    "# усечение значений и округление\n",
    "print('np.clip(y, 0, 1) =', np.clip(y, 0, 1))\n",
    "print('np.round(z, decimals=2) =', np.round(z, decimals=2))\n",
    "print('np.floor(z, decimals=2) =', np.floor(z))\n",
    "print('np.ceil(z, decimals=2) =', np.ceil(z))"
   ]
  },
  {
   "cell_type": "markdown",
   "metadata": {},
   "source": [
    "## 1.4. Редукция"
   ]
  },
  {
   "cell_type": "code",
   "execution_count": null,
   "metadata": {},
   "outputs": [],
   "source": [
    "print(x)"
   ]
  },
  {
   "cell_type": "code",
   "execution_count": null,
   "metadata": {},
   "outputs": [],
   "source": [
    "# суммирование компонентов матриц и векторов\n",
    "print('x.sum() =', x.sum())"
   ]
  },
  {
   "cell_type": "code",
   "execution_count": null,
   "metadata": {},
   "outputs": [],
   "source": [
    "print('A:\\n', A)\n",
    "print('B:\\n', B)"
   ]
  },
  {
   "cell_type": "code",
   "execution_count": null,
   "metadata": {},
   "outputs": [],
   "source": [
    "# суммирование вдоль оси\n",
    "print('B.sum(axis=0) =', B.sum(axis=0)) # можно использовать np.sum()\n",
    "print('B.sum(axis=1) =', B.sum(axis=1))\n",
    "print('B.sum() =', B.sum())"
   ]
  },
  {
   "cell_type": "code",
   "execution_count": null,
   "metadata": {},
   "outputs": [],
   "source": [
    "# среднее\n",
    "print('A.mean() =', A.mean()) # можно вдоль оси, можно np.mean()\n",
    "print('A.mean(axis=0) =', A.mean(axis=0))"
   ]
  },
  {
   "cell_type": "code",
   "execution_count": null,
   "metadata": {},
   "outputs": [],
   "source": [
    "# min и max\n",
    "print('A.min() =', A.min()) # можно вдоль оси, можно np.min()\n",
    "print('A.max(axis=1) =', A.max(axis=1)) # можно вдоль оси, можно np.min()"
   ]
  },
  {
   "cell_type": "code",
   "execution_count": null,
   "metadata": {},
   "outputs": [],
   "source": [
    "# argmin, argmax\n",
    "print('x.argmax() =', x.argmax())\n",
    "print('B.argmax(axis=0) =', B.argmax(axis=0))"
   ]
  },
  {
   "cell_type": "code",
   "execution_count": null,
   "metadata": {},
   "outputs": [],
   "source": [
    "np.quantile(A, q=[0.25, 0.95])"
   ]
  },
  {
   "cell_type": "markdown",
   "metadata": {},
   "source": [
    "## 1.5. Булевы операции"
   ]
  },
  {
   "cell_type": "code",
   "execution_count": null,
   "metadata": {},
   "outputs": [],
   "source": [
    "t = np.array([0, -1.5, 0.1])\n",
    "print('t =', t)"
   ]
  },
  {
   "cell_type": "code",
   "execution_count": null,
   "metadata": {},
   "outputs": [],
   "source": [
    "print('t > 0 =', t > 0)"
   ]
  },
  {
   "cell_type": "code",
   "execution_count": null,
   "metadata": {},
   "outputs": [],
   "source": [
    "print('y <= t =', y <= t)"
   ]
  },
  {
   "cell_type": "code",
   "execution_count": null,
   "metadata": {},
   "outputs": [],
   "source": [
    "a = 1\n",
    "b = 4"
   ]
  },
  {
   "cell_type": "code",
   "execution_count": null,
   "metadata": {},
   "outputs": [],
   "source": [
    "(a > 0) and (b < 10)\n",
    "# & |"
   ]
  },
  {
   "cell_type": "markdown",
   "metadata": {},
   "source": [
    "## 1.6. Полезности"
   ]
  },
  {
   "cell_type": "code",
   "execution_count": null,
   "metadata": {},
   "outputs": [],
   "source": [
    "print('np.pi =', np.pi)"
   ]
  },
  {
   "cell_type": "code",
   "execution_count": null,
   "metadata": {},
   "outputs": [],
   "source": [
    "# преобразование типов\n",
    "print('z =', z)\n",
    "print('z.astype(int) =', z.astype(int))"
   ]
  },
  {
   "cell_type": "code",
   "execution_count": null,
   "metadata": {},
   "outputs": [],
   "source": [
    "# индексация\n",
    "print('y[y <= t] =', y[y <= t])\n",
    "print('y[[2, 1, 2]] =', y[[2, 1, 2]])\n",
    "print('A[:, 1] =', A[:, 1])"
   ]
  },
  {
   "cell_type": "markdown",
   "metadata": {},
   "source": [
    "## 1.7. Упражнения"
   ]
  },
  {
   "cell_type": "markdown",
   "metadata": {},
   "source": [
    "__Упражнение 1:__ Реализовать функции sum, mean, std\n",
    "* на чистом языке Python;\n",
    "* с использованием numpy.sum."
   ]
  },
  {
   "cell_type": "code",
   "execution_count": null,
   "metadata": {},
   "outputs": [],
   "source": [
    "x = np.abs(np.random.normal(0, 2, size=6))\n",
    "x"
   ]
  },
  {
   "cell_type": "code",
   "execution_count": null,
   "metadata": {},
   "outputs": [],
   "source": []
  },
  {
   "cell_type": "markdown",
   "metadata": {},
   "source": [
    "__Упражнение 2:__ Посчитать среднеквадратическую ошибку в линейной модели.\n",
    "\n",
    "\n",
    "Среднеквадратическая ошибка:\n",
    "\n",
    "$$ ||y - X\\theta||^2 $$"
   ]
  },
  {
   "cell_type": "code",
   "execution_count": null,
   "metadata": {},
   "outputs": [],
   "source": [
    "N, d = 1024, 4\n",
    "\n",
    "X = np.random.normal(size=(N, d))\n",
    "y = X[:, 0] * 0.2 + X[:, 2] * (-0.8) + np.random.normal(size=N) * 0.2\n",
    "theta = np.random.normal(size=d)"
   ]
  },
  {
   "cell_type": "code",
   "execution_count": null,
   "metadata": {},
   "outputs": [],
   "source": []
  },
  {
   "cell_type": "markdown",
   "metadata": {},
   "source": [
    "__Упражнение 3:__ Решить СЛАУ $Ax = b$. Посчитать невязку $ ||A \\hat{x} - b|| $."
   ]
  },
  {
   "cell_type": "code",
   "execution_count": null,
   "metadata": {},
   "outputs": [],
   "source": [
    "N = 5\n",
    "A = np.random.normal(size=(N, N)) + np.eye(N)\n",
    "b = np.random.normal(size=N)"
   ]
  },
  {
   "cell_type": "code",
   "execution_count": null,
   "metadata": {},
   "outputs": [],
   "source": []
  },
  {
   "cell_type": "markdown",
   "metadata": {},
   "source": [
    "# 2. Библиотека Pandas"
   ]
  },
  {
   "cell_type": "code",
   "execution_count": null,
   "metadata": {},
   "outputs": [],
   "source": [
    "import pandas as pd"
   ]
  },
  {
   "cell_type": "code",
   "execution_count": null,
   "metadata": {},
   "outputs": [],
   "source": [
    "# считывание данных\n",
    "df = pd.read_csv('https://raw.githubusercontent.com/mwaskom/seaborn-data/master/iris.csv')\n",
    "\n",
    "df.head()"
   ]
  },
  {
   "cell_type": "code",
   "execution_count": null,
   "metadata": {},
   "outputs": [],
   "source": [
    "df.tail()"
   ]
  },
  {
   "cell_type": "code",
   "execution_count": null,
   "metadata": {},
   "outputs": [],
   "source": [
    "# размер\n",
    "df.shape"
   ]
  },
  {
   "cell_type": "markdown",
   "metadata": {},
   "source": [
    "## 2.1 Индексация"
   ]
  },
  {
   "cell_type": "code",
   "execution_count": null,
   "metadata": {},
   "outputs": [],
   "source": [
    "# обращение к столбцу\n",
    "df['species']"
   ]
  },
  {
   "cell_type": "code",
   "execution_count": null,
   "metadata": {},
   "outputs": [],
   "source": [
    "df.species # с осторожностью"
   ]
  },
  {
   "cell_type": "code",
   "execution_count": null,
   "metadata": {},
   "outputs": [],
   "source": [
    "# обращение к наблюдениям по индексу\n",
    "df.loc[2]"
   ]
  },
  {
   "cell_type": "code",
   "execution_count": null,
   "metadata": {},
   "outputs": [],
   "source": [
    "# по номеру строки\n",
    "df.iloc[2]"
   ]
  },
  {
   "cell_type": "code",
   "execution_count": null,
   "metadata": {},
   "outputs": [],
   "source": [
    "# срезы по индексу\n",
    "# отличаются от срезов для листов\n",
    "df.loc[1:3]"
   ]
  },
  {
   "cell_type": "code",
   "execution_count": null,
   "metadata": {},
   "outputs": [],
   "source": [
    "# срезы по номеру\n",
    "df.iloc[1:3]"
   ]
  },
  {
   "cell_type": "code",
   "execution_count": null,
   "metadata": {},
   "outputs": [],
   "source": [
    "# обращение к столбцу через iloc\n",
    "df.iloc[:, 4]"
   ]
  },
  {
   "cell_type": "code",
   "execution_count": null,
   "metadata": {},
   "outputs": [],
   "source": [
    "# фильтрация по условию\n",
    "df1 = df[df.sepal_length > 6]\n",
    "\n",
    "print('Shape of filtered dataframe:',  df1.shape)\n",
    "df1.head()"
   ]
  },
  {
   "cell_type": "markdown",
   "metadata": {},
   "source": [
    "## 2.2. Агрегация и статистика"
   ]
  },
  {
   "cell_type": "code",
   "execution_count": null,
   "metadata": {},
   "outputs": [],
   "source": [
    "print('mean:')\n",
    "display(df.mean())"
   ]
  },
  {
   "cell_type": "code",
   "execution_count": null,
   "metadata": {},
   "outputs": [],
   "source": [
    "print('median:')\n",
    "display()"
   ]
  },
  {
   "cell_type": "code",
   "execution_count": null,
   "metadata": {},
   "outputs": [],
   "source": [
    "print('min, max:')\n",
    "display(df.min())\n",
    "display(df.max())"
   ]
  },
  {
   "cell_type": "code",
   "execution_count": null,
   "metadata": {},
   "outputs": [],
   "source": [
    "# статистики по переменным\n",
    "df.describe()"
   ]
  },
  {
   "cell_type": "code",
   "execution_count": null,
   "metadata": {},
   "outputs": [],
   "source": [
    "# работа с категориальными данными\n",
    "pd.Categorical(df.species).describe()"
   ]
  },
  {
   "cell_type": "code",
   "execution_count": null,
   "metadata": {},
   "outputs": [],
   "source": [
    "# число различных значений переменной\n",
    "df.species.value_counts()"
   ]
  },
  {
   "cell_type": "markdown",
   "metadata": {},
   "source": [
    "## 2.3. Преобразование таблицы"
   ]
  },
  {
   "cell_type": "code",
   "execution_count": null,
   "metadata": {},
   "outputs": [],
   "source": [
    "# новый столбец\n",
    "df['length_sum'] = df.sepal_length + df.petal_length\n",
    "df.head()"
   ]
  },
  {
   "cell_type": "code",
   "execution_count": null,
   "metadata": {},
   "outputs": [],
   "source": [
    "# удаление\n",
    "df = df.drop(columns=['length_sum'])\n",
    "df.head()"
   ]
  },
  {
   "cell_type": "code",
   "execution_count": null,
   "metadata": {},
   "outputs": [],
   "source": [
    "# удаление строк\n",
    "df1 = df.drop(index=[2, 3])\n",
    "df1.head()"
   ]
  },
  {
   "cell_type": "code",
   "execution_count": null,
   "metadata": {},
   "outputs": [],
   "source": [
    "# переименование столбцов\n",
    "df1 = df.rename(columns={'length_sum': 'sum of sepal and petal length'})\n",
    "df1.head()"
   ]
  },
  {
   "cell_type": "code",
   "execution_count": null,
   "metadata": {},
   "outputs": [],
   "source": [
    "df1 = df[['sepal_length', 'petal_length']]\n",
    "df1.head()"
   ]
  },
  {
   "cell_type": "markdown",
   "metadata": {},
   "source": [
    "## 2.4. Упражнения"
   ]
  },
  {
   "cell_type": "code",
   "execution_count": null,
   "metadata": {},
   "outputs": [],
   "source": [
    "from seaborn import load_dataset"
   ]
  },
  {
   "cell_type": "code",
   "execution_count": null,
   "metadata": {},
   "outputs": [],
   "source": [
    "frame = load_dataset('diamonds')\n",
    "\n",
    "print('Num rows:', frame.shape[0])\n",
    "frame.head()"
   ]
  },
  {
   "cell_type": "markdown",
   "metadata": {},
   "source": [
    "__Упражнение 1:__ Какие значения принимает параметры cut, color, clarity? Найдите самые популярные значения для каждого?"
   ]
  },
  {
   "cell_type": "code",
   "execution_count": null,
   "metadata": {},
   "outputs": [],
   "source": []
  },
  {
   "cell_type": "markdown",
   "metadata": {},
   "source": [
    "__Упражнение 2:__ Посчитайте статистики для параметров carat, depth, table, price?"
   ]
  },
  {
   "cell_type": "code",
   "execution_count": null,
   "metadata": {},
   "outputs": [],
   "source": []
  },
  {
   "cell_type": "markdown",
   "metadata": {},
   "source": [
    "__Упражнение 3:__ Отфильтруйте выбросы в таблице по параметру table. Сколько строк осталось в таблице?"
   ]
  },
  {
   "cell_type": "code",
   "execution_count": null,
   "metadata": {},
   "outputs": [],
   "source": []
  },
  {
   "cell_type": "markdown",
   "metadata": {},
   "source": [
    "# 3. Библиотеки визуализации"
   ]
  },
  {
   "cell_type": "code",
   "execution_count": null,
   "metadata": {},
   "outputs": [],
   "source": [
    "import matplotlib.pyplot as plt\n",
    "import seaborn as sns"
   ]
  },
  {
   "cell_type": "markdown",
   "metadata": {},
   "source": [
    "## 3.1. Библиотека PyPlot"
   ]
  },
  {
   "cell_type": "code",
   "execution_count": null,
   "metadata": {},
   "outputs": [],
   "source": [
    "# график функции y = cos(x)\n",
    "x = np.linspace(-3 * np.pi, 3 * np.pi, 1024)\n",
    "y = np.cos(x)\n",
    "\n",
    "plt.plot(x, y)\n",
    "plt.show()"
   ]
  },
  {
   "cell_type": "code",
   "execution_count": null,
   "metadata": {},
   "outputs": [],
   "source": [
    "# оси координат\n",
    "plt.plot(x, y)\n",
    "\n",
    "plt.axhline(0, color='black', lw=1)\n",
    "plt.axvline(0, color='black', lw=1)\n",
    "\n",
    "plt.show()"
   ]
  },
  {
   "cell_type": "code",
   "execution_count": null,
   "metadata": {},
   "outputs": [],
   "source": [
    "# стиль линии\n",
    "plt.plot(x, y, linestyle='--')\n",
    "\n",
    "plt.axhline(0, color='black', lw=1)\n",
    "plt.axvline(0, color='black', lw=1)\n",
    "\n",
    "plt.show()"
   ]
  },
  {
   "cell_type": "code",
   "execution_count": null,
   "metadata": {},
   "outputs": [],
   "source": [
    "# полный пример для красивых графиков\n",
    "# размер графика, подписи к осям координат и заголовок\n",
    "plt.figure(figsize=(12, 5))\n",
    "plt.plot(x, y, linestyle='--', label='Косинус')\n",
    "\n",
    "plt.axhline(0, color='black', lw=1)\n",
    "plt.axvline(0, color='black', lw=1)\n",
    "\n",
    "plt.xlabel('Переменная $x$')\n",
    "plt.ylabel('Функция $y = \\cos(x)$')\n",
    "plt.title('График косинуса')\n",
    "plt.legend()\n",
    "\n",
    "plt.show()"
   ]
  },
  {
   "cell_type": "markdown",
   "metadata": {},
   "source": [
    "## 3.2 Графики табличных данных"
   ]
  },
  {
   "cell_type": "code",
   "execution_count": null,
   "metadata": {},
   "outputs": [],
   "source": [
    "plt.hist(df.petal_width, bins=20)\n",
    "plt.show()"
   ]
  },
  {
   "cell_type": "code",
   "execution_count": null,
   "metadata": {},
   "outputs": [],
   "source": [
    "plt.scatter(df.petal_length, df.petal_width)\n",
    "plt.show()"
   ]
  },
  {
   "cell_type": "code",
   "execution_count": null,
   "metadata": {},
   "outputs": [],
   "source": [
    "df.head()"
   ]
  },
  {
   "cell_type": "code",
   "execution_count": null,
   "metadata": {},
   "outputs": [],
   "source": [
    "df.species.value_counts()"
   ]
  },
  {
   "cell_type": "code",
   "execution_count": null,
   "metadata": {},
   "outputs": [],
   "source": [
    "loc = df[df.species == 'versicolor']\n",
    "plt.scatter(loc.petal_length, loc.petal_width, color='blue')\n",
    "\n",
    "loc = df[df.species == 'virginica']\n",
    "plt.scatter(loc.petal_length, loc.petal_width, color='red')\n",
    "\n",
    "loc = df[df.species == 'setosa']\n",
    "plt.scatter(loc.petal_length, loc.petal_width, color='green')\n",
    "\n",
    "plt.show()"
   ]
  },
  {
   "cell_type": "code",
   "execution_count": null,
   "metadata": {},
   "outputs": [],
   "source": [
    "# спойлер\n",
    "import k3d\n",
    "\n",
    "plot = k3d.plot()\n",
    "\n",
    "loc = df.loc[df.species == 'versicolor', ['petal_length', 'petal_width', 'sepal_width']]\n",
    "plot += k3d.points(loc, point_size=0.1, color=0x0000ff)\n",
    "\n",
    "loc = df.loc[df.species == 'virginica', ['petal_length', 'petal_width', 'sepal_width']]\n",
    "plot += k3d.points(loc, point_size=0.1, color=0xff0000)\n",
    "\n",
    "loc = df.loc[df.species == 'setosa', ['petal_length', 'petal_width', 'sepal_width']]\n",
    "plot += k3d.points(loc, point_size=0.1, color=0x00ff00)\n",
    "\n",
    "plot"
   ]
  },
  {
   "cell_type": "markdown",
   "metadata": {},
   "source": [
    "## 3.3. Библиотека Seaborn"
   ]
  },
  {
   "cell_type": "code",
   "execution_count": null,
   "metadata": {},
   "outputs": [],
   "source": [
    "# попарные графики\n",
    "sns.pairplot(df)\n",
    "plt.show()"
   ]
  },
  {
   "cell_type": "code",
   "execution_count": null,
   "metadata": {},
   "outputs": [],
   "source": [
    "sns.pairplot(df, hue='species')\n",
    "plt.show()"
   ]
  },
  {
   "cell_type": "code",
   "execution_count": null,
   "metadata": {},
   "outputs": [],
   "source": [
    "sns.histplot(df.petal_width, kde=True, stat='density')\n",
    "plt.show()"
   ]
  },
  {
   "cell_type": "code",
   "execution_count": null,
   "metadata": {},
   "outputs": [],
   "source": [
    "sns.boxplot(data=df, x='species', y='sepal_width')\n",
    "plt.show()"
   ]
  },
  {
   "cell_type": "code",
   "execution_count": null,
   "metadata": {},
   "outputs": [],
   "source": [
    "sns.violinplot(data=df, x='species', y='sepal_width')\n",
    "plt.show()"
   ]
  },
  {
   "cell_type": "markdown",
   "metadata": {},
   "source": [
    "## 3.4. Упражнения"
   ]
  },
  {
   "cell_type": "markdown",
   "metadata": {},
   "source": [
    "__Упражнение 1:__ Построить pairplot для датасета diamonds. Какие выводы можно сделать?"
   ]
  },
  {
   "cell_type": "code",
   "execution_count": null,
   "metadata": {},
   "outputs": [],
   "source": []
  },
  {
   "cell_type": "markdown",
   "metadata": {},
   "source": [
    "__Упражнение 2:__ Построить pairplot и раскрасить наблюдения по параметру cut. Какие выводы можно сделать?"
   ]
  },
  {
   "cell_type": "code",
   "execution_count": null,
   "metadata": {},
   "outputs": [],
   "source": []
  },
  {
   "cell_type": "markdown",
   "metadata": {},
   "source": [
    "__Упражнение 3:__ Изучите распределение параметров table, depth. Какие выводы можно сделать?"
   ]
  },
  {
   "cell_type": "code",
   "execution_count": null,
   "metadata": {},
   "outputs": [],
   "source": []
  },
  {
   "cell_type": "markdown",
   "metadata": {},
   "source": [
    "__Упражнение 4:__ Изучите распределение параметров table, depth в зависимости от параметра cut. Какие выводы можно сделать?"
   ]
  },
  {
   "cell_type": "code",
   "execution_count": null,
   "metadata": {},
   "outputs": [],
   "source": []
  }
 ],
 "metadata": {
  "kernelspec": {
   "display_name": "Python 3 (ipykernel)",
   "language": "python",
   "name": "python3"
  },
  "language_info": {
   "codemirror_mode": {
    "name": "ipython",
    "version": 3
   },
   "file_extension": ".py",
   "mimetype": "text/x-python",
   "name": "python",
   "nbconvert_exporter": "python",
   "pygments_lexer": "ipython3",
   "version": "3.9.16"
  }
 },
 "nbformat": 4,
 "nbformat_minor": 4
}
