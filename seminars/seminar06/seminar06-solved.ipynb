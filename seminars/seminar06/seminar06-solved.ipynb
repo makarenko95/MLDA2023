{
 "cells": [
  {
   "cell_type": "markdown",
   "metadata": {},
   "source": [
    "# Семинар 6. Выбор модели. Кросс-валидация. Отбор признаков\n",
    "\n",
    "Подключение библиотек. \n",
    "$\n",
    "\\newcommand{\\R}{\\mathbb{R}}\n",
    "\\newcommand{\\X}{\\mathbb{X}}\n",
    "\\newcommand{\\norm}[1]{\\lVert #1 \\rVert}\n",
    "\\newcommand{\\abs}[1]{\\left| #1 \\right|}\n",
    "\\newcommand{\\E}{\\mathbb{E}}\n",
    "\\newcommand{\\D}{\\mathbb{D}}\n",
    "\\renewcommand{\\Prob}{\\mathbb{P}}\n",
    "\\renewcommand{\\le}{\\leqslant}\n",
    "\\renewcommand{\\ge}{\\geqslant}\n",
    "\\newcommand{\\eps}{\\varepsilon}\n",
    "\\newcommand{\\Normal}{\\mathcal{N}}\n",
    "\\DeclareMathOperator{\\TP}{TP}\n",
    "\\DeclareMathOperator{\\FP}{FP}\n",
    "\\DeclareMathOperator{\\TN}{TN}\n",
    "\\DeclareMathOperator{\\FN}{FN}\n",
    "\\DeclareMathOperator{\\Accuracy}{Accuracy}\n",
    "\\DeclareMathOperator{\\Precision}{Precision}\n",
    "\\DeclareMathOperator{\\Recall}{Recall}\n",
    "\\DeclareMathOperator{\\Fscore}{F_1}\n",
    "\\DeclareMathOperator{\\MSE}{MSE}\n",
    "\\DeclareMathOperator{\\RMSE}{RMSE}\n",
    "\\DeclareMathOperator{\\MAE}{MAE}\n",
    "\\DeclareMathOperator{\\MAPE}{MAPE}\n",
    "\\DeclareMathOperator{\\Rsqured}{R^2}\n",
    "$"
   ]
  },
  {
   "cell_type": "code",
   "execution_count": 1,
   "metadata": {},
   "outputs": [],
   "source": [
    "import numpy as np\n",
    "import pandas as pd\n",
    "\n",
    "import matplotlib.pyplot as plt\n",
    "import seaborn as sns\n",
    "import ipywidgets as wg\n",
    "\n",
    "from matplotlib.colors import ListedColormap\n",
    "\n",
    "import warnings\n",
    "warnings.filterwarnings(\"ignore\", 'This pattern has match groups')\n",
    "\n",
    "RdGn = ListedColormap(['red', 'green'])\n",
    "plt.style.use('ggplot')\n",
    "plt.rcParams['figure.figsize'] = (12, 4)"
   ]
  },
  {
   "cell_type": "code",
   "execution_count": 2,
   "metadata": {},
   "outputs": [],
   "source": [
    "from sklearn.metrics import mean_absolute_error, mean_squared_error, r2_score\n",
    "\n",
    "\n",
    "def regression_metrics(true, pred, verbose=False, plot=False):\n",
    "    mae = mean_absolute_error(true, pred)\n",
    "    mape = np.abs((true - pred) / true).mean()\n",
    "    mse = mean_squared_error(true, pred)\n",
    "    rmse = np.sqrt(mse)\n",
    "    r2 = r2_score(true, pred)\n",
    "\n",
    "    if verbose:\n",
    "        print('MAE: ', mae)\n",
    "        print('MSE: ', mse)\n",
    "        print('RMSE:', rmse)\n",
    "        print('MAPE:', mape)\n",
    "        print('R2:  ', r2)\n",
    "        print()\n",
    "    \n",
    "    if plot:\n",
    "        plt.figure(0, (6, 6))\n",
    "        plt.scatter(true, pred)\n",
    "        low = min(true.min(), pred.min())\n",
    "        high = max(true.max(), pred.max())\n",
    "\n",
    "        plt.plot([low, high], [low, high], color='blue')\n",
    "        plt.xlabel('Ground Truth')\n",
    "        plt.ylabel('Prediction')\n",
    "        plt.show()\n",
    "        \n",
    "    return (mae, mse, rmse, mape, r2)"
   ]
  },
  {
   "cell_type": "markdown",
   "metadata": {},
   "source": [
    "# Задача выбора модели\n",
    "\n",
    "* __Настройка гиперпараметров:__ для конкретного вида модели выбрать наилучшие гиперпараметры (параметры обучения).\n",
    "* __Выбор вида модели и алгоритма обучения:__ выбрать один из альтернативных видов модели.\n",
    "* __Отбор признаков:__ отбросить неинформативные признаки."
   ]
  },
  {
   "cell_type": "markdown",
   "metadata": {},
   "source": [
    "# 1. Настройка гиперпараметров\n",
    "\n",
    "Датасет __mpg__. По характеристикам машины необходимо спрогнозировать расход топлива.\n",
    "\n",
    "Признаки:\n",
    "* cylinders -- число цилиндров в двигателе;\n",
    "* displacement -- рабочий объем, л;\n",
    "* horsepower -- мощность, л.с.;\n",
    "* weight -- вес, т;\n",
    "* acceleration -- ускорение;\n",
    "* model_year -- год выпуска модели;\n",
    "* origin -- производитель;\n",
    "* name -- название.\n",
    "\n",
    "Целевая переменная:\n",
    "* mpg -- миль на галлон, переведено в км/л."
   ]
  },
  {
   "cell_type": "code",
   "execution_count": 3,
   "metadata": {},
   "outputs": [
    {
     "data": {
      "text/html": [
       "<div>\n",
       "<style scoped>\n",
       "    .dataframe tbody tr th:only-of-type {\n",
       "        vertical-align: middle;\n",
       "    }\n",
       "\n",
       "    .dataframe tbody tr th {\n",
       "        vertical-align: top;\n",
       "    }\n",
       "\n",
       "    .dataframe thead th {\n",
       "        text-align: right;\n",
       "    }\n",
       "</style>\n",
       "<table border=\"1\" class=\"dataframe\">\n",
       "  <thead>\n",
       "    <tr style=\"text-align: right;\">\n",
       "      <th></th>\n",
       "      <th>mpg</th>\n",
       "      <th>cylinders</th>\n",
       "      <th>displacement</th>\n",
       "      <th>horsepower</th>\n",
       "      <th>weight</th>\n",
       "      <th>acceleration</th>\n",
       "      <th>model_year</th>\n",
       "      <th>origin</th>\n",
       "      <th>name</th>\n",
       "    </tr>\n",
       "  </thead>\n",
       "  <tbody>\n",
       "    <tr>\n",
       "      <th>0</th>\n",
       "      <td>13.067503</td>\n",
       "      <td>8</td>\n",
       "      <td>5.030840</td>\n",
       "      <td>130.0</td>\n",
       "      <td>1.589386</td>\n",
       "      <td>12.0</td>\n",
       "      <td>70</td>\n",
       "      <td>usa</td>\n",
       "      <td>chevrolet chevelle malibu</td>\n",
       "    </tr>\n",
       "    <tr>\n",
       "      <th>1</th>\n",
       "      <td>15.681004</td>\n",
       "      <td>8</td>\n",
       "      <td>5.735485</td>\n",
       "      <td>165.0</td>\n",
       "      <td>1.675115</td>\n",
       "      <td>11.5</td>\n",
       "      <td>70</td>\n",
       "      <td>usa</td>\n",
       "      <td>buick skylark 320</td>\n",
       "    </tr>\n",
       "    <tr>\n",
       "      <th>2</th>\n",
       "      <td>13.067503</td>\n",
       "      <td>8</td>\n",
       "      <td>5.211098</td>\n",
       "      <td>150.0</td>\n",
       "      <td>1.558542</td>\n",
       "      <td>11.0</td>\n",
       "      <td>70</td>\n",
       "      <td>usa</td>\n",
       "      <td>plymouth satellite</td>\n",
       "    </tr>\n",
       "    <tr>\n",
       "      <th>3</th>\n",
       "      <td>14.700941</td>\n",
       "      <td>8</td>\n",
       "      <td>4.981678</td>\n",
       "      <td>150.0</td>\n",
       "      <td>1.557181</td>\n",
       "      <td>12.0</td>\n",
       "      <td>70</td>\n",
       "      <td>usa</td>\n",
       "      <td>amc rebel sst</td>\n",
       "    </tr>\n",
       "    <tr>\n",
       "      <th>4</th>\n",
       "      <td>13.836180</td>\n",
       "      <td>8</td>\n",
       "      <td>4.948904</td>\n",
       "      <td>140.0</td>\n",
       "      <td>1.564439</td>\n",
       "      <td>10.5</td>\n",
       "      <td>70</td>\n",
       "      <td>usa</td>\n",
       "      <td>ford torino</td>\n",
       "    </tr>\n",
       "  </tbody>\n",
       "</table>\n",
       "</div>"
      ],
      "text/plain": [
       "         mpg  cylinders  displacement  horsepower    weight  acceleration  \\\n",
       "0  13.067503          8      5.030840       130.0  1.589386          12.0   \n",
       "1  15.681004          8      5.735485       165.0  1.675115          11.5   \n",
       "2  13.067503          8      5.211098       150.0  1.558542          11.0   \n",
       "3  14.700941          8      4.981678       150.0  1.557181          12.0   \n",
       "4  13.836180          8      4.948904       140.0  1.564439          10.5   \n",
       "\n",
       "   model_year origin                       name  \n",
       "0          70    usa  chevrolet chevelle malibu  \n",
       "1          70    usa          buick skylark 320  \n",
       "2          70    usa         plymouth satellite  \n",
       "3          70    usa              amc rebel sst  \n",
       "4          70    usa                ford torino  "
      ]
     },
     "execution_count": 3,
     "metadata": {},
     "output_type": "execute_result"
    }
   ],
   "source": [
    "frame = sns.load_dataset('mpg')\n",
    "frame.dropna(inplace=True)\n",
    "\n",
    "frame['displacement'] *= 16.3871 / 1000\n",
    "frame['mpg'] = 100 / (frame.mpg * 1.60934 / 3.78541)\n",
    "frame['weight'] *= 0.453592 / 1000\n",
    "\n",
    "frame.head()"
   ]
  },
  {
   "cell_type": "markdown",
   "metadata": {},
   "source": [
    "Данные к обучению:"
   ]
  },
  {
   "cell_type": "code",
   "execution_count": 4,
   "metadata": {},
   "outputs": [],
   "source": [
    "X = frame.drop(columns=['mpg', 'name']).copy()\n",
    "y = frame.mpg.copy()"
   ]
  },
  {
   "cell_type": "markdown",
   "metadata": {},
   "source": [
    "## 1.1. Метод отложенной выборки\n",
    "\n",
    "* Делим датасет на 3 части:\n",
    "    * __Train__ -- используется для обучения параметров модели.\n",
    "    * __Valid__ -- используется для оценки обобщающей способности модели и для отбора гиперпараметров.\n",
    "    * __Test__ -- используется для финальной оценки качества алгоритма."
   ]
  },
  {
   "cell_type": "code",
   "execution_count": 5,
   "metadata": {},
   "outputs": [
    {
     "name": "stdout",
     "output_type": "stream",
     "text": [
      "Train size: 281\n",
      "Valid size: 32\n",
      "Test size: 79\n"
     ]
    }
   ],
   "source": [
    "from sklearn.model_selection import train_test_split\n",
    "\n",
    "\n",
    "X_fit, X_test, y_fit, y_test = train_test_split(X, y, test_size=0.2, random_state=42)\n",
    "X_train, X_valid, y_train, y_valid = train_test_split(X_fit, y_fit, test_size=0.1, random_state=42)\n",
    "\n",
    "print('Train size:', X_train.shape[0])\n",
    "print('Valid size:', X_valid.shape[0])\n",
    "print('Test size:', X_test.shape[0])"
   ]
  },
  {
   "cell_type": "markdown",
   "metadata": {},
   "source": [
    "Преобразование признаков и модель:"
   ]
  },
  {
   "cell_type": "code",
   "execution_count": 6,
   "metadata": {},
   "outputs": [
    {
     "data": {
      "text/plain": [
       "ColumnTransformer(transformers=[('standardscaler', StandardScaler(),\n",
       "                                 ['displacement', 'horsepower', 'weight',\n",
       "                                  'acceleration', 'cylinders', 'model_year']),\n",
       "                                ('onehotencoder', OneHotEncoder(drop='first'),\n",
       "                                 ['origin'])])"
      ]
     },
     "execution_count": 6,
     "metadata": {},
     "output_type": "execute_result"
    }
   ],
   "source": [
    "from sklearn.compose import make_column_transformer\n",
    "from sklearn.preprocessing import StandardScaler, OneHotEncoder\n",
    "\n",
    "num_features = ['displacement', 'horsepower', 'weight', 'acceleration', 'cylinders', 'model_year']\n",
    "cat_features = ['origin']\n",
    "\n",
    "transformer = make_column_transformer((StandardScaler(), num_features), (OneHotEncoder(drop='first'), cat_features))\n",
    "transformer"
   ]
  },
  {
   "cell_type": "code",
   "execution_count": 7,
   "metadata": {},
   "outputs": [
    {
     "data": {
      "text/plain": [
       "Ridge(alpha=0.001)"
      ]
     },
     "execution_count": 7,
     "metadata": {},
     "output_type": "execute_result"
    }
   ],
   "source": [
    "from sklearn.linear_model import Ridge\n",
    "\n",
    "\n",
    "estimator = Ridge(alpha=1e-3)\n",
    "estimator"
   ]
  },
  {
   "cell_type": "code",
   "execution_count": 8,
   "metadata": {},
   "outputs": [],
   "source": [
    "from sklearn.pipeline import make_pipeline\n",
    "\n",
    "\n",
    "model = make_pipeline(transformer, estimator)\n",
    "model.fit(X_train, y_train)\n",
    "\n",
    "pred_train = model.predict(X_train)\n",
    "pred_valid = model.predict(X_valid)"
   ]
  },
  {
   "cell_type": "markdown",
   "metadata": {},
   "source": [
    "Печатаем метрики:"
   ]
  },
  {
   "cell_type": "code",
   "execution_count": 9,
   "metadata": {},
   "outputs": [
    {
     "name": "stdout",
     "output_type": "stream",
     "text": [
      "Train:\n",
      "MAE:  1.006571445629828\n",
      "MSE:  1.8271676990014456\n",
      "RMSE: 1.3517276719078608\n",
      "MAPE: 0.09233814607795625\n",
      "R2:   0.888276001098649\n",
      "\n",
      "Valid:\n",
      "MAE:  0.9333715744646405\n",
      "MSE:  1.5088999890362045\n",
      "RMSE: 1.2283729030861128\n",
      "MAPE: 0.09445970413429362\n",
      "R2:   0.8083766114966353\n",
      "\n"
     ]
    },
    {
     "data": {
      "image/png": "[encoded data removed]",
      "text/plain": [
       "<Figure size 432x432 with 1 Axes>"
      ]
     },
     "metadata": {},
     "output_type": "display_data"
    },
    {
     "data": {
      "text/plain": [
       "(0.9333715744646405,\n",
       " 1.5088999890362045,\n",
       " 1.2283729030861128,\n",
       " 0.09445970413429362,\n",
       " 0.8083766114966353)"
      ]
     },
     "execution_count": 9,
     "metadata": {},
     "output_type": "execute_result"
    }
   ],
   "source": [
    "print('Train:')\n",
    "regression_metrics(y_train, pred_train, verbose=True)\n",
    "\n",
    "print('Valid:')\n",
    "regression_metrics(y_valid, pred_valid, verbose=True, plot=True)"
   ]
  },
  {
   "cell_type": "markdown",
   "metadata": {},
   "source": [
    "Выбор гиперпараметров:"
   ]
  },
  {
   "cell_type": "code",
   "execution_count": 10,
   "metadata": {},
   "outputs": [
    {
     "data": {
      "application/vnd.jupyter.widget-view+json": {
       "model_id": "5e38f4d33f514a868407c033e11c0f9a",
       "version_major": 2,
       "version_minor": 0
      },
      "text/plain": [
       "HBox(children=(FloatProgress(value=0.0, max=128.0), HTML(value='')))"
      ]
     },
     "metadata": {},
     "output_type": "display_data"
    },
    {
     "name": "stdout",
     "output_type": "stream",
     "text": [
      "\n",
      "Best alpha: 44.22514763163044\n",
      "Idx of best alpha: 118\n"
     ]
    },
    {
     "data": {
      "image/png": "[encoded data removed]",
      "text/plain": [
       "<Figure size 864x288 with 1 Axes>"
      ]
     },
     "metadata": {},
     "output_type": "display_data"
    }
   ],
   "source": [
    "# Best MAE\n",
    "from tqdm.auto import tqdm\n",
    "\n",
    "\n",
    "def func(alpha):\n",
    "    model = make_pipeline(transformer, Ridge(alpha=alpha))\n",
    "    model.fit(X_train, y_train)\n",
    "    \n",
    "    score = mean_absolute_error\n",
    "    \n",
    "    metrics_train = score(y_train, model.predict(X_train))\n",
    "    metrics_valid = score(y_valid, model.predict(X_valid))\n",
    "    return metrics_train, metrics_valid\n",
    "\n",
    "alpha_list = np.logspace(-3, 2, 128)\n",
    "metrics_list = [func(alpha) for alpha in tqdm(alpha_list)]\n",
    "train_list, valid_list = zip(*metrics_list)\n",
    "\n",
    "best_idx = np.argmin(valid_list)\n",
    "alpha_best = alpha_list[best_idx]\n",
    "print('Best alpha:', alpha_best)\n",
    "print('Idx of best alpha:', best_idx)\n",
    "\n",
    "plt.plot(np.log10(alpha_list), train_list, color='blue', label='Train')\n",
    "plt.plot(np.log10(alpha_list), valid_list, color='green', label='Valid')\n",
    "plt.axvline(np.log10(alpha_best), color='purple', lw=2, label='Best alpha')\n",
    "plt.legend()\n",
    "plt.show()"
   ]
  },
  {
   "cell_type": "markdown",
   "metadata": {},
   "source": [
    "Обучаем итоговую модель:"
   ]
  },
  {
   "cell_type": "code",
   "execution_count": 11,
   "metadata": {},
   "outputs": [
    {
     "data": {
      "text/plain": [
       "Pipeline(steps=[('columntransformer',\n",
       "                 ColumnTransformer(transformers=[('standardscaler',\n",
       "                                                  StandardScaler(),\n",
       "                                                  ['displacement', 'horsepower',\n",
       "                                                   'weight', 'acceleration',\n",
       "                                                   'cylinders', 'model_year']),\n",
       "                                                 ('onehotencoder',\n",
       "                                                  OneHotEncoder(drop='first'),\n",
       "                                                  ['origin'])])),\n",
       "                ('ridge', Ridge(alpha=44.22514763163044))])"
      ]
     },
     "execution_count": 11,
     "metadata": {},
     "output_type": "execute_result"
    }
   ],
   "source": [
    "estimator = Ridge(alpha=alpha_best)\n",
    "\n",
    "model = make_pipeline(transformer, estimator)\n",
    "model.fit(X_fit, y_fit)"
   ]
  },
  {
   "cell_type": "code",
   "execution_count": 12,
   "metadata": {},
   "outputs": [
    {
     "name": "stdout",
     "output_type": "stream",
     "text": [
      "Fit:\n",
      "MAE:  0.9926126530297397\n",
      "MSE:  1.9492897682964863\n",
      "RMSE: 1.3961696774735104\n",
      "MAPE: 0.09046292873991102\n",
      "R2:   0.8746388419325971\n",
      "\n",
      "Test:\n",
      "MAE:  0.9272767346617401\n",
      "MSE:  1.6592567207775446\n",
      "RMSE: 1.2881213920968568\n",
      "MAPE: 0.08099501762559658\n",
      "R2:   0.8829842270316929\n",
      "\n"
     ]
    },
    {
     "data": {
      "image/png": "[encoded data removed]",
      "text/plain": [
       "<Figure size 432x432 with 1 Axes>"
      ]
     },
     "metadata": {},
     "output_type": "display_data"
    },
    {
     "data": {
      "text/plain": [
       "(0.9272767346617401,\n",
       " 1.6592567207775446,\n",
       " 1.2881213920968568,\n",
       " 0.08099501762559658,\n",
       " 0.8829842270316929)"
      ]
     },
     "execution_count": 12,
     "metadata": {},
     "output_type": "execute_result"
    }
   ],
   "source": [
    "print('Fit:')\n",
    "regression_metrics(y_fit, model.predict(X_fit), verbose=True)\n",
    "\n",
    "print('Test:')\n",
    "regression_metrics(y_test, model.predict(X_test), verbose=True, plot=True)"
   ]
  },
  {
   "cell_type": "markdown",
   "metadata": {},
   "source": [
    "## 1.2. Кросс-валидация\n",
    "\n",
    "Цели:\n",
    "* Выбор модели.\n",
    "* Оценка качества.\n",
    "\n",
    "Основные разновидности кросс-валидации:\n",
    "* __Leave One Out:__ \n",
    "    * по очереди откладываем одно наблюдение для оценки;\n",
    "    * обучаем на всей выборке кроме выбранного наблюдения;\n",
    "    * считаем метрики на отложенном наблюдении.\n",
    "* __K-Fold:__\n",
    "    * делим на $k$ непересекающихся групп (fold-ов);\n",
    "    * далее аналогично Leave One Out.\n",
    "* __Repeated K-Fold:__\n",
    "    * несколько раз с разными разбиениями повторяется K-Fold.\n",
    "* __Stratified K-Fold:__\n",
    "    * Разбиения пропорционально категориальному признаку (распределение по категориям в fold-ах будет похожим).\n",
    "* __Grouped K-Fold:__\n",
    "    * Если одному объекту принадлежит несколько наблюдений (например, пользователь померил несколько моделей обуви)."
   ]
  },
  {
   "cell_type": "code",
   "execution_count": 13,
   "metadata": {},
   "outputs": [
    {
     "name": "stdout",
     "output_type": "stream",
     "text": [
      "Fit size: 313\n",
      "Test size: 79\n"
     ]
    }
   ],
   "source": [
    "X_fit, X_test, y_fit, y_test = train_test_split(X, y, test_size=0.2, random_state=42)\n",
    "\n",
    "print('Fit size:', X_fit.shape[0])\n",
    "print('Test size:', X_test.shape[0])"
   ]
  },
  {
   "cell_type": "markdown",
   "metadata": {},
   "source": [
    "$L_2$-регуляризация с кросс-валидацией:"
   ]
  },
  {
   "cell_type": "code",
   "execution_count": 14,
   "metadata": {},
   "outputs": [
    {
     "data": {
      "text/plain": [
       "Pipeline(steps=[('columntransformer',\n",
       "                 ColumnTransformer(transformers=[('standardscaler',\n",
       "                                                  StandardScaler(),\n",
       "                                                  ['displacement', 'horsepower',\n",
       "                                                   'weight', 'acceleration',\n",
       "                                                   'cylinders', 'model_year']),\n",
       "                                                 ('onehotencoder',\n",
       "                                                  OneHotEncoder(drop='first'),\n",
       "                                                  ['origin'])])),\n",
       "                ('ridgecv',\n",
       "                 RidgeCV(alphas=array([1.00000000e-03, 1.20050806e-03, 1.44121960e-03, 1.73019574e-03,\n",
       "       2.07711393e-0...\n",
       "       1.49486913e+00, 1.79460244e+00, 2.15443469e+00, 2.58641621e+00,\n",
       "       3.10501350e+00, 3.72759372e+00, 4.47500630e+00, 5.37228112e+00,\n",
       "       6.44946677e+00, 7.74263683e+00, 9.29509790e+00, 1.11588399e+01,\n",
       "       1.33962772e+01, 1.60823388e+01, 1.93069773e+01, 2.31781818e+01,\n",
       "       2.78255940e+01, 3.34048498e+01, 4.01027914e+01, 4.81437242e+01,\n",
       "       5.77969288e+01, 6.93856788e+01, 8.32980665e+01, 1.00000000e+02])))])"
      ]
     },
     "execution_count": 14,
     "metadata": {},
     "output_type": "execute_result"
    }
   ],
   "source": [
    "from sklearn.linear_model import RidgeCV\n",
    "\n",
    "\n",
    "estimator = RidgeCV(alphas=np.logspace(-3, 2, 64))\n",
    "model = make_pipeline(transformer, estimator)\n",
    "model"
   ]
  },
  {
   "cell_type": "markdown",
   "metadata": {},
   "source": [
    "Настраиваем гиперпараметры и смотрим на качество модели:"
   ]
  },
  {
   "cell_type": "code",
   "execution_count": 15,
   "metadata": {},
   "outputs": [
    {
     "name": "stdout",
     "output_type": "stream",
     "text": [
      "Best alpha: 2.154434690031882\n",
      "Coefs: [-0.49562088  1.08978765  1.979628    0.23120289  0.58091994 -1.1687093\n",
      "  0.15679769  0.77167686]\n"
     ]
    }
   ],
   "source": [
    "model.fit(X_fit, y_fit)\n",
    "\n",
    "print('Best alpha:', model['ridgecv'].alpha_)\n",
    "print('Coefs:', model['ridgecv'].coef_)"
   ]
  },
  {
   "cell_type": "code",
   "execution_count": 20,
   "metadata": {},
   "outputs": [
    {
     "name": "stdout",
     "output_type": "stream",
     "text": [
      "Fit:\n",
      "MAE:  0.9853606796922143\n",
      "MSE:  1.793282315748987\n",
      "RMSE: 1.3391349131991843\n",
      "MAPE: 0.09092546627850533\n",
      "R2:   0.8846718679283121\n",
      "\n",
      "Test:\n",
      "MAE:  0.9718889261132576\n",
      "MSE:  1.5602084197689168\n",
      "RMSE: 1.2490830315751298\n",
      "MAPE: 0.08740506806215782\n",
      "R2:   0.8899694110352212\n",
      "\n"
     ]
    },
    {
     "data": {
      "image/png": "[encoded data removed]",
      "text/plain": [
       "<Figure size 432x432 with 1 Axes>"
      ]
     },
     "metadata": {},
     "output_type": "display_data"
    },
    {
     "data": {
      "text/plain": [
       "(0.9718889261132576,\n",
       " 1.5602084197689168,\n",
       " 1.2490830315751298,\n",
       " 0.08740506806215782,\n",
       " 0.8899694110352212)"
      ]
     },
     "execution_count": 20,
     "metadata": {},
     "output_type": "execute_result"
    }
   ],
   "source": [
    "print('Fit:')\n",
    "regression_metrics(y_fit, model.predict(X_fit), verbose=True)\n",
    "\n",
    "print('Test:')\n",
    "regression_metrics(y_test, model.predict(X_test), verbose=True, plot=True)"
   ]
  },
  {
   "cell_type": "markdown",
   "metadata": {},
   "source": [
    "# 1.3. GridSearch\n",
    "\n",
    "Умеет перебирать все возможные гипер-параметры и находить оптимальные для произвольных алгоритмов машинного обучения."
   ]
  },
  {
   "cell_type": "code",
   "execution_count": 21,
   "metadata": {},
   "outputs": [
    {
     "name": "stdout",
     "output_type": "stream",
     "text": [
      "Fit size: 313\n",
      "Test size: 79\n"
     ]
    }
   ],
   "source": [
    "X_fit, X_test, y_fit, y_test = train_test_split(X, y, test_size=0.2, random_state=42)\n",
    "\n",
    "print('Fit size:', X_fit.shape[0])\n",
    "print('Test size:', X_test.shape[0])"
   ]
  },
  {
   "cell_type": "code",
   "execution_count": 22,
   "metadata": {},
   "outputs": [
    {
     "data": {
      "text/plain": [
       "Pipeline(steps=[('columntransformer',\n",
       "                 ColumnTransformer(transformers=[('standardscaler',\n",
       "                                                  StandardScaler(),\n",
       "                                                  ['displacement', 'horsepower',\n",
       "                                                   'weight', 'acceleration',\n",
       "                                                   'cylinders', 'model_year']),\n",
       "                                                 ('onehotencoder',\n",
       "                                                  OneHotEncoder(drop='first'),\n",
       "                                                  ['origin'])])),\n",
       "                ('gridsearchcv',\n",
       "                 GridSearchCV(estimator=Ridge(),\n",
       "                              param_grid={'alpha': array([1.00000000e-03, 1.44974067e-03, 2....\n",
       "       1.95129342e-02, 2.82886943e-02, 4.10112707e-02, 5.94557071e-02,\n",
       "       8.61953566e-02, 1.24960914e-01, 1.81160919e-01, 2.62636353e-01,\n",
       "       3.80754602e-01, 5.51995432e-01, 8.00250228e-01, 1.16015530e+00,\n",
       "       1.68192432e+00, 2.43835410e+00, 3.53498111e+00, 5.12480588e+00,\n",
       "       7.42963951e+00, 1.07710506e+01, 1.56152301e+01, 2.26380341e+01,\n",
       "       3.28192787e+01, 4.75794431e+01, 6.89778538e+01, 1.00000000e+02]),\n",
       "                                          'solver': ('svd', 'cholesky',\n",
       "                                                     'lsqr')}))])"
      ]
     },
     "execution_count": 22,
     "metadata": {},
     "output_type": "execute_result"
    }
   ],
   "source": [
    "from sklearn.model_selection import GridSearchCV\n",
    "\n",
    "\n",
    "grid_search = GridSearchCV(Ridge(), {\n",
    "    'alpha': np.logspace(-3, 2, 32),\n",
    "    'solver': ('svd', 'cholesky', 'lsqr')\n",
    "})\n",
    "\n",
    "model = make_pipeline(transformer, grid_search)\n",
    "model"
   ]
  },
  {
   "cell_type": "code",
   "execution_count": 24,
   "metadata": {},
   "outputs": [
    {
     "data": {
      "text/plain": [
       "Ridge(alpha=3.5349811050301057, solver='lsqr')"
      ]
     },
     "execution_count": 24,
     "metadata": {},
     "output_type": "execute_result"
    }
   ],
   "source": [
    "model.fit(X_fit, y_fit)\n",
    "model['gridsearchcv'].best_estimator_"
   ]
  },
  {
   "cell_type": "code",
   "execution_count": 25,
   "metadata": {},
   "outputs": [
    {
     "name": "stdout",
     "output_type": "stream",
     "text": [
      "Fit:\n",
      "MAE:  0.9821045073900578\n",
      "MSE:  1.7984240143652217\n",
      "RMSE: 1.3410533227151042\n",
      "MAPE: 0.09053643858574437\n",
      "R2:   0.8843411991362997\n",
      "\n",
      "Test:\n",
      "MAE:  0.9669734151838609\n",
      "MSE:  1.563113057319108\n",
      "RMSE: 1.2502451988786472\n",
      "MAPE: 0.08670568544974248\n",
      "R2:   0.889764567261577\n",
      "\n"
     ]
    },
    {
     "data": {
      "image/png": "[encoded data removed]",
      "text/plain": [
       "<Figure size 432x432 with 1 Axes>"
      ]
     },
     "metadata": {},
     "output_type": "display_data"
    },
    {
     "data": {
      "text/plain": [
       "(0.9669734151838609,\n",
       " 1.563113057319108,\n",
       " 1.2502451988786472,\n",
       " 0.08670568544974248,\n",
       " 0.889764567261577)"
      ]
     },
     "execution_count": 25,
     "metadata": {},
     "output_type": "execute_result"
    }
   ],
   "source": [
    "print('Fit:')\n",
    "regression_metrics(y_fit, model.predict(X_fit), verbose=True)\n",
    "\n",
    "print('Test:')\n",
    "regression_metrics(y_test, model.predict(X_test), verbose=True, plot=True)"
   ]
  },
  {
   "cell_type": "markdown",
   "metadata": {},
   "source": [
    "GridSearch для всего пайплайна:"
   ]
  },
  {
   "cell_type": "code",
   "execution_count": 34,
   "metadata": {},
   "outputs": [
    {
     "data": {
      "text/plain": [
       "960"
      ]
     },
     "execution_count": 34,
     "metadata": {},
     "output_type": "execute_result"
    }
   ],
   "source": [
    "2 * 32 * 3 * 5"
   ]
  },
  {
   "cell_type": "code",
   "execution_count": 32,
   "metadata": {},
   "outputs": [
    {
     "data": {
      "text/plain": [
       "GridSearchCV(estimator=Pipeline(steps=[('columntransformer',\n",
       "                                        ColumnTransformer(transformers=[('standardscaler',\n",
       "                                                                         StandardScaler(),\n",
       "                                                                         ['displacement',\n",
       "                                                                          'horsepower',\n",
       "                                                                          'weight',\n",
       "                                                                          'acceleration',\n",
       "                                                                          'cylinders',\n",
       "                                                                          'model_year']),\n",
       "                                                                        ('onehotencoder',\n",
       "                                                                         OneHotEncoder(drop='first'),\n",
       "                                                                         ['origin'])])),\n",
       "                                       ('ridge', Ridge())]),\n",
       "             param_grid={'columntransformer__onehotencoder__drop': [None,\n",
       "                                                                    'fir...\n",
       "       1.95129342e-02, 2.82886943e-02, 4.10112707e-02, 5.94557071e-02,\n",
       "       8.61953566e-02, 1.24960914e-01, 1.81160919e-01, 2.62636353e-01,\n",
       "       3.80754602e-01, 5.51995432e-01, 8.00250228e-01, 1.16015530e+00,\n",
       "       1.68192432e+00, 2.43835410e+00, 3.53498111e+00, 5.12480588e+00,\n",
       "       7.42963951e+00, 1.07710506e+01, 1.56152301e+01, 2.26380341e+01,\n",
       "       3.28192787e+01, 4.75794431e+01, 6.89778538e+01, 1.00000000e+02]),\n",
       "                         'ridge__solver': ('svd', 'cholesky', 'lsqr')})"
      ]
     },
     "execution_count": 32,
     "metadata": {},
     "output_type": "execute_result"
    }
   ],
   "source": [
    "model = make_pipeline(transformer, Ridge())\n",
    "gs = GridSearchCV(model, {\n",
    "    'columntransformer__onehotencoder__drop': [None, 'first'],\n",
    "    'ridge__alpha': np.logspace(-3, 2, 32),\n",
    "    'ridge__solver': ('svd', 'cholesky', 'lsqr')\n",
    "})\n",
    "gs.fit(X_fit, y_fit)"
   ]
  },
  {
   "cell_type": "code",
   "execution_count": 39,
   "metadata": {},
   "outputs": [
    {
     "data": {
      "text/plain": [
       "{'columntransformer__onehotencoder__drop': None,\n",
       " 'ridge__alpha': 3.5349811050301057,\n",
       " 'ridge__solver': 'svd'}"
      ]
     },
     "execution_count": 39,
     "metadata": {},
     "output_type": "execute_result"
    }
   ],
   "source": [
    "gs.best_params_"
   ]
  },
  {
   "cell_type": "code",
   "execution_count": 44,
   "metadata": {},
   "outputs": [],
   "source": [
    "# pred_fit = gs.predict(X_fit)\n",
    "# pred_test = gs.predict(X_test)"
   ]
  },
  {
   "cell_type": "code",
   "execution_count": 43,
   "metadata": {},
   "outputs": [
    {
     "name": "stdout",
     "output_type": "stream",
     "text": [
      "Fit:\n",
      "MAE:  0.9832754530696698\n",
      "MSE:  1.797131812147926\n",
      "RMSE: 1.3405714498481331\n",
      "MAPE: 0.09063299164240088\n",
      "R2:   0.8844243022075066\n",
      "\n",
      "Test:\n",
      "MAE:  0.9694082525755595\n",
      "MSE:  1.5680772283548081\n",
      "RMSE: 1.2522289041364634\n",
      "MAPE: 0.0869331375880883\n",
      "R2:   0.8894144789939719\n",
      "\n"
     ]
    },
    {
     "data": {
      "image/png": "[encoded data removed]",
      "text/plain": [
       "<Figure size 432x432 with 1 Axes>"
      ]
     },
     "metadata": {},
     "output_type": "display_data"
    },
    {
     "data": {
      "text/plain": [
       "(0.9694082525755595,\n",
       " 1.5680772283548081,\n",
       " 1.2522289041364634,\n",
       " 0.0869331375880883,\n",
       " 0.8894144789939719)"
      ]
     },
     "execution_count": 43,
     "metadata": {},
     "output_type": "execute_result"
    }
   ],
   "source": [
    "print('Fit:')\n",
    "regression_metrics(y_fit, gs.predict(X_fit), verbose=True)\n",
    "\n",
    "print('Test:')\n",
    "regression_metrics(y_test, gs.predict(X_test), verbose=True, plot=True)"
   ]
  },
  {
   "cell_type": "code",
   "execution_count": 37,
   "metadata": {},
   "outputs": [
    {
     "data": {
      "text/plain": [
       "Pipeline(steps=[('trans',\n",
       "                 ColumnTransformer(transformers=[('standardscaler',\n",
       "                                                  StandardScaler(),\n",
       "                                                  ['displacement', 'horsepower',\n",
       "                                                   'weight', 'acceleration',\n",
       "                                                   'cylinders', 'model_year']),\n",
       "                                                 ('onehotencoder',\n",
       "                                                  OneHotEncoder(drop='first'),\n",
       "                                                  ['origin'])])),\n",
       "                ('m', Ridge())])"
      ]
     },
     "execution_count": 37,
     "metadata": {},
     "output_type": "execute_result"
    }
   ],
   "source": [
    "from sklearn.pipeline import Pipeline\n",
    "\n",
    "\n",
    "model = Pipeline([\n",
    "    ('trans', transformer),\n",
    "    ('m', Ridge())\n",
    "])\n",
    "model"
   ]
  },
  {
   "cell_type": "markdown",
   "metadata": {},
   "source": [
    "# 2. Выбор вида модели"
   ]
  },
  {
   "cell_type": "markdown",
   "metadata": {},
   "source": [
    "__Задача:__ отобрать параметры для метода $k$ ближайших соседей."
   ]
  },
  {
   "cell_type": "code",
   "execution_count": 46,
   "metadata": {},
   "outputs": [
    {
     "data": {
      "text/plain": [
       "GridSearchCV(estimator=Pipeline(steps=[('trans',\n",
       "                                        ColumnTransformer(transformers=[('standardscaler',\n",
       "                                                                         StandardScaler(),\n",
       "                                                                         ['displacement',\n",
       "                                                                          'horsepower',\n",
       "                                                                          'weight',\n",
       "                                                                          'acceleration',\n",
       "                                                                          'cylinders',\n",
       "                                                                          'model_year']),\n",
       "                                                                        ('onehotencoder',\n",
       "                                                                         OneHotEncoder(drop='first'),\n",
       "                                                                         ['origin'])])),\n",
       "                                       ('knn', KNeighborsRegressor())]),\n",
       "             param_grid={'knn__n_neighbors': [1, 2, 5, 10, 19],\n",
       "                         'knn__p': [1, 2, 3],\n",
       "                         'knn__weights': ['uniform', 'distance']})"
      ]
     },
     "execution_count": 46,
     "metadata": {},
     "output_type": "execute_result"
    }
   ],
   "source": [
    "from sklearn.neighbors import KNeighborsRegressor\n",
    "\n",
    "\n",
    "model = Pipeline([\n",
    "    ('trans', transformer),\n",
    "    ('knn', KNeighborsRegressor())\n",
    "])\n",
    "gs = GridSearchCV(model, {\n",
    "    'knn__n_neighbors': [1, 2, 5, 10, 19],\n",
    "    'knn__weights': ['uniform', 'distance'],\n",
    "    'knn__p': [1, 2, 3]\n",
    "})\n",
    "gs.fit(X_fit, y_fit)"
   ]
  },
  {
   "cell_type": "code",
   "execution_count": 47,
   "metadata": {},
   "outputs": [
    {
     "data": {
      "text/plain": [
       "{'knn__n_neighbors': 5, 'knn__p': 1, 'knn__weights': 'distance'}"
      ]
     },
     "execution_count": 47,
     "metadata": {},
     "output_type": "execute_result"
    }
   ],
   "source": [
    "gs.best_params_"
   ]
  },
  {
   "cell_type": "code",
   "execution_count": 48,
   "metadata": {},
   "outputs": [
    {
     "name": "stdout",
     "output_type": "stream",
     "text": [
      "Fit:\n",
      "MAE:  0.0\n",
      "MSE:  0.0\n",
      "RMSE: 0.0\n",
      "MAPE: 0.0\n",
      "R2:   1.0\n",
      "\n",
      "Test:\n",
      "MAE:  0.8241353781715858\n",
      "MSE:  1.2314486786561292\n",
      "RMSE: 1.1097065732238092\n",
      "MAPE: 0.07319595554370363\n",
      "R2:   0.9131545364865413\n",
      "\n"
     ]
    },
    {
     "data": {
      "image/png": "[encoded data removed]",
      "text/plain": [
       "<Figure size 432x432 with 1 Axes>"
      ]
     },
     "metadata": {},
     "output_type": "display_data"
    },
    {
     "data": {
      "text/plain": [
       "(0.8241353781715858,\n",
       " 1.2314486786561292,\n",
       " 1.1097065732238092,\n",
       " 0.07319595554370363,\n",
       " 0.9131545364865413)"
      ]
     },
     "execution_count": 48,
     "metadata": {},
     "output_type": "execute_result"
    }
   ],
   "source": [
    "print('Fit:')\n",
    "regression_metrics(y_fit, gs.predict(X_fit), verbose=True)\n",
    "\n",
    "print('Test:')\n",
    "regression_metrics(y_test, gs.predict(X_test), verbose=True, plot=True)"
   ]
  },
  {
   "cell_type": "markdown",
   "metadata": {},
   "source": [
    "__Задача:__ \n",
    "* обучить понравившуюся Вам модель и подобрать к ней гиперпараметры;\n",
    "* выбрать метрику качества и сравнить с KNN."
   ]
  },
  {
   "cell_type": "code",
   "execution_count": null,
   "metadata": {},
   "outputs": [],
   "source": []
  },
  {
   "cell_type": "markdown",
   "metadata": {},
   "source": [
    "# 3. Отбор признаков\n",
    "\n",
    "Sklearn обладает инструментами для отбора признаков ([ссылка на документацию](https://scikit-learn.org/stable/modules/feature_selection.html)).\n",
    "\n",
    "* Удаление признаков с малой дисперсией.\n",
    "* Отбор признаков с помощью статистических критериев.\n",
    "* С помощью $L_1$ регуляризации.\n",
    "* Рекурсивный отбор признаков.\n",
    "* Последовательный отбор признаков."
   ]
  },
  {
   "cell_type": "code",
   "execution_count": 52,
   "metadata": {},
   "outputs": [],
   "source": [
    "from sklearn.feature_selection import (\n",
    "    f_regression,\n",
    "    SelectKBest,\n",
    "    SelectFromModel,\n",
    "    RFE,\n",
    "#     SequentialFeatureSelector\n",
    ")"
   ]
  },
  {
   "cell_type": "markdown",
   "metadata": {},
   "source": [
    "Выбор с помощью модели:"
   ]
  },
  {
   "cell_type": "code",
   "execution_count": 55,
   "metadata": {},
   "outputs": [],
   "source": [
    "from sklearn.linear_model import LinearRegression\n",
    "\n",
    "\n",
    "features = np.random.normal(size=(128, 16))\n",
    "targets = 0.1 + 0.05 * features[:, 0] + 0.02 * features[:, 2] - 0.1 * features[:, 4] + np.random.normal(scale=1)"
   ]
  },
  {
   "cell_type": "code",
   "execution_count": 56,
   "metadata": {},
   "outputs": [
    {
     "data": {
      "text/plain": [
       "array([ True, False,  True, False,  True, False, False, False, False,\n",
       "       False, False, False, False, False, False, False])"
      ]
     },
     "metadata": {},
     "output_type": "display_data"
    },
    {
     "data": {
      "text/plain": [
       "array([[-1.01193709,  0.91892059,  0.6291351 ],\n",
       "       [ 0.66358266, -0.86957966, -0.37586812],\n",
       "       [ 0.48259042, -0.62251868, -1.20095126],\n",
       "       [-0.79382146, -0.36947453,  0.53310708],\n",
       "       [ 0.31611497, -0.77965813,  1.41118183]])"
      ]
     },
     "execution_count": 56,
     "metadata": {},
     "output_type": "execute_result"
    }
   ],
   "source": [
    "selector = SelectFromModel(LinearRegression(), max_features=16)\n",
    "selector.fit(features, targets)\n",
    "\n",
    "display(selector.get_support())\n",
    "selector.transform(features)[:5]"
   ]
  },
  {
   "cell_type": "markdown",
   "metadata": {},
   "source": [
    "Рекурсивный отбор признаков:"
   ]
  },
  {
   "cell_type": "code",
   "execution_count": 58,
   "metadata": {},
   "outputs": [
    {
     "data": {
      "text/plain": [
       "array([ True, False,  True,  True,  True,  True, False, False, False,\n",
       "       False, False, False, False,  True, False, False])"
      ]
     },
     "metadata": {},
     "output_type": "display_data"
    },
    {
     "data": {
      "text/plain": [
       "array([[-1.01193709,  0.91892059,  0.00388137,  0.6291351 ,  0.98106712,\n",
       "         0.12213894],\n",
       "       [ 0.66358266, -0.86957966,  0.13706136, -0.37586812,  1.17743387,\n",
       "         0.12132024],\n",
       "       [ 0.48259042, -0.62251868,  0.01165475, -1.20095126,  0.17246103,\n",
       "        -1.7195937 ],\n",
       "       [-0.79382146, -0.36947453,  0.83073019,  0.53310708,  0.74668525,\n",
       "         1.60909588],\n",
       "       [ 0.31611497, -0.77965813, -0.91784533,  1.41118183,  0.30080383,\n",
       "        -1.21646221]])"
      ]
     },
     "execution_count": 58,
     "metadata": {},
     "output_type": "execute_result"
    }
   ],
   "source": [
    "selector = RFE(LinearRegression(), n_features_to_select=6)\n",
    "selector.fit(features, targets)\n",
    "\n",
    "display(selector.get_support())\n",
    "selector.transform(features)[:5]"
   ]
  },
  {
   "cell_type": "code",
   "execution_count": null,
   "metadata": {},
   "outputs": [],
   "source": [
    "selector = SequentialFeatureSelector(LinearRegression(), n_features_to_select=3)\n",
    "selector.fit(features, targets)\n",
    "\n",
    "display(selector.get_support())\n",
    "selector.transform(features)[:5]"
   ]
  },
  {
   "cell_type": "markdown",
   "metadata": {},
   "source": [
    "Встраиваем в Pipeline:"
   ]
  },
  {
   "cell_type": "code",
   "execution_count": 59,
   "metadata": {},
   "outputs": [
    {
     "name": "stdout",
     "output_type": "stream",
     "text": [
      "Fit:\n",
      "MAE:  1.0018041818601027\n",
      "MSE:  1.8812190392068615\n",
      "RMSE: 1.3715753859000466\n",
      "MAPE: 0.09219059870465736\n",
      "R2:   0.879016551992926\n",
      "\n",
      "Test:\n",
      "MAE:  0.9380611803107162\n",
      "MSE:  1.4788264808266893\n",
      "RMSE: 1.2160700970037415\n",
      "MAPE: 0.08266362250396754\n",
      "R2:   0.8957087100669718\n",
      "\n"
     ]
    },
    {
     "data": {
      "image/png": "[encoded data removed]",
      "text/plain": [
       "<Figure size 432x432 with 1 Axes>"
      ]
     },
     "metadata": {},
     "output_type": "display_data"
    },
    {
     "data": {
      "text/plain": [
       "(0.9380611803107162,\n",
       " 1.4788264808266893,\n",
       " 1.2160700970037415,\n",
       " 0.08266362250396754,\n",
       " 0.8957087100669718)"
      ]
     },
     "execution_count": 59,
     "metadata": {},
     "output_type": "execute_result"
    }
   ],
   "source": [
    "selector = SelectKBest(score_func=f_regression, k=5)\n",
    "estimator = LinearRegression()\n",
    "\n",
    "model = make_pipeline(transformer, selector, estimator)\n",
    "model.fit(X_fit, y_fit)\n",
    "\n",
    "print('Fit:')\n",
    "regression_metrics(y_fit, model.predict(X_fit), verbose=True)\n",
    "\n",
    "print('Test:')\n",
    "regression_metrics(y_test, model.predict(X_test), verbose=True, plot=True)"
   ]
  },
  {
   "cell_type": "code",
   "execution_count": 60,
   "metadata": {
    "scrolled": false
   },
   "outputs": [
    {
     "name": "stdout",
     "output_type": "stream",
     "text": [
      "Fitting 5 folds for each of 512 candidates, totalling 2560 fits\n"
     ]
    },
    {
     "name": "stderr",
     "output_type": "stream",
     "text": [
      "[Parallel(n_jobs=16)]: Using backend LokyBackend with 16 concurrent workers.\n",
      "[Parallel(n_jobs=16)]: Done  18 tasks      | elapsed:    5.0s\n",
      "[Parallel(n_jobs=16)]: Done 341 tasks      | elapsed:    7.6s\n",
      "[Parallel(n_jobs=16)]: Done 1332 tasks      | elapsed:   13.5s\n",
      "[Parallel(n_jobs=16)]: Done 2529 out of 2560 | elapsed:   18.9s remaining:    0.1s\n",
      "[Parallel(n_jobs=16)]: Done 2560 out of 2560 | elapsed:   19.0s finished\n"
     ]
    },
    {
     "data": {
      "text/plain": [
       "Pipeline(steps=[('columntransformer',\n",
       "                 ColumnTransformer(transformers=[('standardscaler',\n",
       "                                                  StandardScaler(with_mean=False),\n",
       "                                                  ['displacement', 'horsepower',\n",
       "                                                   'weight', 'acceleration',\n",
       "                                                   'cylinders', 'model_year']),\n",
       "                                                 ('onehotencoder',\n",
       "                                                  OneHotEncoder(drop='first'),\n",
       "                                                  ['origin'])])),\n",
       "                ('selectkbest',\n",
       "                 SelectKBest(k=7,\n",
       "                             score_func=<function f_regression at 0x000001B010B60B80>)),\n",
       "                ('ridge', Ridge(alpha=4.641588833612782))])"
      ]
     },
     "execution_count": 60,
     "metadata": {},
     "output_type": "execute_result"
    }
   ],
   "source": [
    "selector = SelectKBest(score_func=f_regression, k=1)\n",
    "estimator = Ridge()\n",
    "\n",
    "pipeline = make_pipeline(transformer, selector, estimator)\n",
    "pipeline.fit(X_fit, y_fit)\n",
    "\n",
    "model = GridSearchCV(pipeline, {\n",
    "    'ridge__alpha': np.logspace(-4, 3, 16),\n",
    "    'ridge__fit_intercept': [False, True],\n",
    "    'columntransformer__standardscaler__with_mean': [False, True],\n",
    "    'selectkbest__k': list(range(1, 9))\n",
    "}, verbose=1, n_jobs=16)\n",
    "model.fit(X_fit, y_fit)\n",
    "model.best_estimator_"
   ]
  },
  {
   "cell_type": "code",
   "execution_count": 62,
   "metadata": {},
   "outputs": [
    {
     "data": {
      "text/plain": [
       "{'columntransformer__standardscaler__with_mean': False,\n",
       " 'ridge__alpha': 4.641588833612782,\n",
       " 'ridge__fit_intercept': True,\n",
       " 'selectkbest__k': 7}"
      ]
     },
     "execution_count": 62,
     "metadata": {},
     "output_type": "execute_result"
    }
   ],
   "source": [
    "model.best_params_"
   ]
  },
  {
   "cell_type": "code",
   "execution_count": 63,
   "metadata": {},
   "outputs": [
    {
     "name": "stdout",
     "output_type": "stream",
     "text": [
      "Fit:\n",
      "MAE:  0.9802459043063996\n",
      "MSE:  1.805649638037952\n",
      "RMSE: 1.3437446327475888\n",
      "MAPE: 0.0904115641534019\n",
      "R2:   0.8838765106296933\n",
      "\n",
      "Test:\n",
      "MAE:  0.962844266556016\n",
      "MSE:  1.5684902616403231\n",
      "RMSE: 1.2523938125207754\n",
      "MAPE: 0.08626568213433244\n",
      "R2:   0.8893853506447773\n",
      "\n"
     ]
    },
    {
     "data": {
      "text/plain": [
       "(0.962844266556016,\n",
       " 1.5684902616403231,\n",
       " 1.2523938125207754,\n",
       " 0.08626568213433244,\n",
       " 0.8893853506447773)"
      ]
     },
     "execution_count": 63,
     "metadata": {},
     "output_type": "execute_result"
    }
   ],
   "source": [
    "print('Fit:')\n",
    "regression_metrics(y_fit, model.predict(X_fit), verbose=True)\n",
    "\n",
    "print('Test:')\n",
    "regression_metrics(y_test, model.predict(X_test), verbose=True)"
   ]
  },
  {
   "cell_type": "markdown",
   "metadata": {},
   "source": [
    "# 4. Оценка качества модели на кросс-валидации"
   ]
  },
  {
   "cell_type": "code",
   "execution_count": 64,
   "metadata": {},
   "outputs": [],
   "source": [
    "estimator = Ridge(alpha=0.01)\n",
    "model = make_pipeline(transformer, estimator)"
   ]
  },
  {
   "cell_type": "code",
   "execution_count": 68,
   "metadata": {},
   "outputs": [],
   "source": [
    "from sklearn.neighbors import KNeighborsRegressor\n",
    "\n",
    "\n",
    "model_ = Pipeline([\n",
    "    ('trans', transformer),\n",
    "    ('knn', KNeighborsRegressor())\n",
    "])\n",
    "model = GridSearchCV(model_, {\n",
    "    'knn__n_neighbors': [1, 2, 5, 10, 19],\n",
    "    'knn__weights': ['uniform', 'distance'],\n",
    "    'knn__p': [1, 2, 3]\n",
    "})\n",
    "# model.fit(X_fit, y_fit)"
   ]
  },
  {
   "cell_type": "code",
   "execution_count": 69,
   "metadata": {},
   "outputs": [
    {
     "data": {
      "text/html": [
       "<div>\n",
       "<style scoped>\n",
       "    .dataframe tbody tr th:only-of-type {\n",
       "        vertical-align: middle;\n",
       "    }\n",
       "\n",
       "    .dataframe tbody tr th {\n",
       "        vertical-align: top;\n",
       "    }\n",
       "\n",
       "    .dataframe thead th {\n",
       "        text-align: right;\n",
       "    }\n",
       "</style>\n",
       "<table border=\"1\" class=\"dataframe\">\n",
       "  <thead>\n",
       "    <tr style=\"text-align: right;\">\n",
       "      <th></th>\n",
       "      <th>mae</th>\n",
       "      <th>mse</th>\n",
       "      <th>rmse</th>\n",
       "      <th>mape</th>\n",
       "      <th>r2</th>\n",
       "    </tr>\n",
       "  </thead>\n",
       "  <tbody>\n",
       "    <tr>\n",
       "      <th>0</th>\n",
       "      <td>0.878951</td>\n",
       "      <td>1.386486</td>\n",
       "      <td>1.177491</td>\n",
       "      <td>0.079065</td>\n",
       "      <td>0.902221</td>\n",
       "    </tr>\n",
       "    <tr>\n",
       "      <th>1</th>\n",
       "      <td>0.998709</td>\n",
       "      <td>1.656181</td>\n",
       "      <td>1.286927</td>\n",
       "      <td>0.092029</td>\n",
       "      <td>0.868772</td>\n",
       "    </tr>\n",
       "    <tr>\n",
       "      <th>2</th>\n",
       "      <td>1.021780</td>\n",
       "      <td>2.084007</td>\n",
       "      <td>1.443609</td>\n",
       "      <td>0.096138</td>\n",
       "      <td>0.883266</td>\n",
       "    </tr>\n",
       "    <tr>\n",
       "      <th>3</th>\n",
       "      <td>0.968795</td>\n",
       "      <td>1.974579</td>\n",
       "      <td>1.405197</td>\n",
       "      <td>0.086816</td>\n",
       "      <td>0.887352</td>\n",
       "    </tr>\n",
       "    <tr>\n",
       "      <th>4</th>\n",
       "      <td>0.861617</td>\n",
       "      <td>1.255160</td>\n",
       "      <td>1.120339</td>\n",
       "      <td>0.086303</td>\n",
       "      <td>0.906286</td>\n",
       "    </tr>\n",
       "  </tbody>\n",
       "</table>\n",
       "</div>"
      ],
      "text/plain": [
       "        mae       mse      rmse      mape        r2\n",
       "0  0.878951  1.386486  1.177491  0.079065  0.902221\n",
       "1  0.998709  1.656181  1.286927  0.092029  0.868772\n",
       "2  1.021780  2.084007  1.443609  0.096138  0.883266\n",
       "3  0.968795  1.974579  1.405197  0.086816  0.887352\n",
       "4  0.861617  1.255160  1.120339  0.086303  0.906286"
      ]
     },
     "execution_count": 69,
     "metadata": {},
     "output_type": "execute_result"
    }
   ],
   "source": [
    "from sklearn.model_selection import KFold\n",
    "\n",
    "\n",
    "cv = KFold(n_splits=5, shuffle=True, random_state=42)\n",
    "\n",
    "metrics = []\n",
    "\n",
    "for fit_index, test_index in cv.split(X, y):\n",
    "    X_fit = X.iloc[fit_index]\n",
    "    X_test = X.iloc[test_index]\n",
    "    \n",
    "    y_fit = y.iloc[fit_index]\n",
    "    y_test = y.iloc[test_index]\n",
    "    \n",
    "    model.fit(X_fit, y_fit)\n",
    "    pred_test = model.predict(X_test)\n",
    "    \n",
    "    metrics.append(regression_metrics(y_test, pred_test))\n",
    "    \n",
    "metrics = pd.DataFrame(metrics, columns=['mae', 'mse', 'rmse', 'mape', 'r2'])\n",
    "metrics"
   ]
  },
  {
   "cell_type": "code",
   "execution_count": 70,
   "metadata": {},
   "outputs": [
    {
     "data": {
      "text/plain": [
       "mae     0.945971\n",
       "mse     1.671283\n",
       "rmse    1.286713\n",
       "mape    0.088070\n",
       "r2      0.889579\n",
       "dtype: float64"
      ]
     },
     "execution_count": 70,
     "metadata": {},
     "output_type": "execute_result"
    }
   ],
   "source": [
    "metrics.mean()"
   ]
  },
  {
   "cell_type": "markdown",
   "metadata": {},
   "source": [
    "Из коробки:"
   ]
  },
  {
   "cell_type": "code",
   "execution_count": 74,
   "metadata": {},
   "outputs": [
    {
     "data": {
      "text/plain": [
       "array([-1.38648566, -1.65618138, -2.08400721, -1.97457854, -1.25515998])"
      ]
     },
     "execution_count": 74,
     "metadata": {},
     "output_type": "execute_result"
    }
   ],
   "source": [
    "from sklearn.model_selection import cross_val_score\n",
    "\n",
    "\n",
    "cv_result = cross_val_score(model, X, y, cv=cv, scoring='neg_mean_squared_error')\n",
    "cv_result"
   ]
  },
  {
   "cell_type": "code",
   "execution_count": 72,
   "metadata": {},
   "outputs": [
    {
     "data": {
      "text/plain": [
       "-1.6712825543631893"
      ]
     },
     "execution_count": 72,
     "metadata": {},
     "output_type": "execute_result"
    }
   ],
   "source": [
    "cv_result.mean()"
   ]
  },
  {
   "cell_type": "markdown",
   "metadata": {},
   "source": [
    "Несколько метрик:"
   ]
  },
  {
   "cell_type": "code",
   "execution_count": 75,
   "metadata": {},
   "outputs": [
    {
     "data": {
      "text/plain": [
       "{'fit_time': array([2.15089726, 2.22330642, 2.12085247, 1.99201846, 2.10065579]),\n",
       " 'score_time': array([0.00365829, 0.0059998 , 0.0049963 , 0.02189183, 0.        ]),\n",
       " 'test_neg_mean_absolute_error': array([-0.87895097, -0.99870914, -1.02178034, -0.96879481, -0.86161734]),\n",
       " 'test_neg_mean_squared_error': array([-1.38648566, -1.65618138, -2.08400721, -1.97457854, -1.25515998]),\n",
       " 'test_r2': array([0.90222086, 0.86877158, 0.88326607, 0.88735244, 0.90628637])}"
      ]
     },
     "execution_count": 75,
     "metadata": {},
     "output_type": "execute_result"
    }
   ],
   "source": [
    "from sklearn.model_selection import cross_validate\n",
    "\n",
    "\n",
    "cv_result = cross_validate(model, X, y, cv=cv, \n",
    "                           scoring=['neg_mean_absolute_error', 'neg_mean_squared_error', 'r2'])\n",
    "cv_result"
   ]
  },
  {
   "cell_type": "code",
   "execution_count": 76,
   "metadata": {},
   "outputs": [
    {
     "data": {
      "text/plain": [
       "{'fit_time': 2.1175460815429688,\n",
       " 'score_time': 0.007309246063232422,\n",
       " 'test_neg_mean_absolute_error': -0.9459705194131842,\n",
       " 'test_neg_mean_squared_error': -1.6712825543631893,\n",
       " 'test_r2': 0.8895794659378218}"
      ]
     },
     "execution_count": 76,
     "metadata": {},
     "output_type": "execute_result"
    }
   ],
   "source": [
    "{k: np.mean(v) for k, v in cv_result.items()}"
   ]
  },
  {
   "cell_type": "code",
   "execution_count": null,
   "metadata": {},
   "outputs": [],
   "source": []
  }
 ],
 "metadata": {
  "kernelspec": {
   "display_name": "Python 3",
   "language": "python",
   "name": "python3"
  },
  "language_info": {
   "codemirror_mode": {
    "name": "ipython",
    "version": 3
   },
   "file_extension": ".py",
   "mimetype": "text/x-python",
   "name": "python",
   "nbconvert_exporter": "python",
   "pygments_lexer": "ipython3",
   "version": "3.8.3"
  }
 },
 "nbformat": 4,
 "nbformat_minor": 4
}
