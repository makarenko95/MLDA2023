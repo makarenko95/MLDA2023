{
 "cells": [
  {
   "cell_type": "markdown",
   "metadata": {},
   "source": [
    "# Семинар 6. Выбор модели. Кросс-валидация. Отбор признаков\n",
    "\n",
    "Подключение библиотек. \n",
    "$\n",
    "\\newcommand{\\R}{\\mathbb{R}}\n",
    "\\newcommand{\\X}{\\mathbb{X}}\n",
    "\\newcommand{\\norm}[1]{\\lVert #1 \\rVert}\n",
    "\\newcommand{\\abs}[1]{\\left| #1 \\right|}\n",
    "\\newcommand{\\E}{\\mathbb{E}}\n",
    "\\newcommand{\\D}{\\mathbb{D}}\n",
    "\\renewcommand{\\Prob}{\\mathbb{P}}\n",
    "\\renewcommand{\\le}{\\leqslant}\n",
    "\\renewcommand{\\ge}{\\geqslant}\n",
    "\\newcommand{\\eps}{\\varepsilon}\n",
    "\\newcommand{\\Normal}{\\mathcal{N}}\n",
    "\\DeclareMathOperator{\\TP}{TP}\n",
    "\\DeclareMathOperator{\\FP}{FP}\n",
    "\\DeclareMathOperator{\\TN}{TN}\n",
    "\\DeclareMathOperator{\\FN}{FN}\n",
    "\\DeclareMathOperator{\\Accuracy}{Accuracy}\n",
    "\\DeclareMathOperator{\\Precision}{Precision}\n",
    "\\DeclareMathOperator{\\Recall}{Recall}\n",
    "\\DeclareMathOperator{\\Fscore}{F_1}\n",
    "\\DeclareMathOperator{\\MSE}{MSE}\n",
    "\\DeclareMathOperator{\\RMSE}{RMSE}\n",
    "\\DeclareMathOperator{\\MAE}{MAE}\n",
    "\\DeclareMathOperator{\\MAPE}{MAPE}\n",
    "\\DeclareMathOperator{\\Rsqured}{R^2}\n",
    "$"
   ]
  },
  {
   "cell_type": "code",
   "execution_count": null,
   "metadata": {},
   "outputs": [],
   "source": [
    "import numpy as np\n",
    "import pandas as pd\n",
    "\n",
    "import matplotlib.pyplot as plt\n",
    "import seaborn as sns\n",
    "import ipywidgets as wg\n",
    "\n",
    "from matplotlib.colors import ListedColormap\n",
    "\n",
    "import warnings\n",
    "warnings.filterwarnings(\"ignore\", 'This pattern has match groups')\n",
    "\n",
    "RdGn = ListedColormap(['red', 'green'])\n",
    "plt.style.use('ggplot')\n",
    "plt.rcParams['figure.figsize'] = (12, 4)"
   ]
  },
  {
   "cell_type": "code",
   "execution_count": null,
   "metadata": {},
   "outputs": [],
   "source": [
    "from sklearn.metrics import mean_absolute_error, mean_squared_error, r2_score\n",
    "\n",
    "\n",
    "def regression_metrics(true, pred, verbose=False, plot=False):\n",
    "    mae = mean_absolute_error(true, pred)\n",
    "    mape = np.abs((true - pred) / true).mean()\n",
    "    mse = mean_squared_error(true, pred)\n",
    "    rmse = np.sqrt(mse)\n",
    "    r2 = r2_score(true, pred)\n",
    "\n",
    "    if verbose:\n",
    "        print('MAE: ', mae)\n",
    "        print('MSE: ', mse)\n",
    "        print('RMSE:', rmse)\n",
    "        print('MAPE:', mape)\n",
    "        print('R2:  ', r2)\n",
    "        print()\n",
    "    \n",
    "    if plot:\n",
    "        plt.figure(0, (6, 6))\n",
    "        plt.scatter(true, pred)\n",
    "        low = min(true.min(), pred.min())\n",
    "        high = max(true.max(), pred.max())\n",
    "\n",
    "        plt.plot([low, high], [low, high], color='blue')\n",
    "        plt.xlabel('Ground Truth')\n",
    "        plt.ylabel('Prediction')\n",
    "        plt.show()\n",
    "        \n",
    "    return (mae, mse, rmse, mape, r2)"
   ]
  },
  {
   "cell_type": "markdown",
   "metadata": {},
   "source": [
    "# Задача выбора модели\n",
    "\n",
    "* __Настройка гиперпараметров:__ для конкретного вида модели выбрать наилучшие гиперпараметры (параметры обучения).\n",
    "* __Выбор вида модели и алгоритма обучения:__ выбрать один из альтернативных видов модели.\n",
    "* __Отбор признаков:__ отбросить неинформативные признаки."
   ]
  },
  {
   "cell_type": "markdown",
   "metadata": {},
   "source": [
    "# 1. Настройка гиперпараметров\n",
    "\n",
    "Датасет __mpg__. По характеристикам машины необходимо спрогнозировать расход топлива.\n",
    "\n",
    "Признаки:\n",
    "* cylinders -- число цилиндров в двигателе;\n",
    "* displacement -- рабочий объем, л;\n",
    "* horsepower -- мощность, л.с.;\n",
    "* weight -- вес, т;\n",
    "* acceleration -- ускорение;\n",
    "* model_year -- год выпуска модели;\n",
    "* origin -- производитель;\n",
    "* name -- название.\n",
    "\n",
    "Целевая переменная:\n",
    "* mpg -- миль на галлон, переведено в км/л."
   ]
  },
  {
   "cell_type": "code",
   "execution_count": null,
   "metadata": {},
   "outputs": [],
   "source": [
    "frame = sns.load_dataset('mpg')\n",
    "frame.dropna(inplace=True)\n",
    "\n",
    "frame['displacement'] *= 16.3871 / 1000\n",
    "frame['mpg'] = 100 / (frame.mpg * 1.60934 / 3.78541)\n",
    "frame['weight'] *= 0.453592 / 1000\n",
    "\n",
    "frame.head()"
   ]
  },
  {
   "cell_type": "markdown",
   "metadata": {},
   "source": [
    "Данные к обучению:"
   ]
  },
  {
   "cell_type": "code",
   "execution_count": null,
   "metadata": {},
   "outputs": [],
   "source": [
    "X = frame.drop(columns=['mpg', 'name']).copy()\n",
    "y = frame.mpg.copy()"
   ]
  },
  {
   "cell_type": "markdown",
   "metadata": {},
   "source": [
    "## 1.1. Метод отложенной выборки\n",
    "\n",
    "* Делим датасет на 3 части:\n",
    "    * __Train__ -- используется для обучения параметров модели.\n",
    "    * __Valid__ -- используется для оценки обобщающей способности модели и для отбора гиперпараметров.\n",
    "    * __Test__ -- используется для финальной оценки качества алгоритма."
   ]
  },
  {
   "cell_type": "code",
   "execution_count": null,
   "metadata": {},
   "outputs": [],
   "source": [
    "from sklearn.model_selection import train_test_split\n",
    "\n",
    "\n",
    "X_fit, X_test, y_fit, y_test = train_test_split(X, y, test_size=0.2, random_state=42)\n",
    "X_train, X_valid, y_train, y_valid = train_test_split(X_fit, y_fit, test_size=0.1, random_state=42)\n",
    "\n",
    "print('Train size:', X_train.shape[0])\n",
    "print('Valid size:', X_valid.shape[0])\n",
    "print('Test size:', X_test.shape[0])"
   ]
  },
  {
   "cell_type": "markdown",
   "metadata": {},
   "source": [
    "Преобразование признаков и модель:"
   ]
  },
  {
   "cell_type": "code",
   "execution_count": null,
   "metadata": {},
   "outputs": [],
   "source": [
    "from sklearn.compose import make_column_transformer\n",
    "from sklearn.preprocessing import StandardScaler, OneHotEncoder\n",
    "\n",
    "num_features = ['displacement', 'horsepower', 'weight', 'acceleration', 'cylinders', 'model_year']\n",
    "cat_features = ['origin']\n",
    "\n",
    "transformer = make_column_transformer((StandardScaler(), num_features), (OneHotEncoder(drop='first'), cat_features))\n",
    "transformer"
   ]
  },
  {
   "cell_type": "code",
   "execution_count": null,
   "metadata": {},
   "outputs": [],
   "source": [
    "from sklearn.linear_model import Ridge\n",
    "\n",
    "\n",
    "estimator = Ridge(alpha=1e-3)\n",
    "estimator"
   ]
  },
  {
   "cell_type": "code",
   "execution_count": null,
   "metadata": {},
   "outputs": [],
   "source": [
    "from sklearn.pipeline import make_pipeline\n",
    "\n",
    "\n",
    "model = make_pipeline(transformer, estimator)\n",
    "model.fit(X_train, y_train)\n",
    "\n",
    "pred_train = model.predict(X_train)\n",
    "pred_valid = model.predict(X_valid)"
   ]
  },
  {
   "cell_type": "markdown",
   "metadata": {},
   "source": [
    "Печатаем метрики:"
   ]
  },
  {
   "cell_type": "code",
   "execution_count": null,
   "metadata": {},
   "outputs": [],
   "source": [
    "print('Train:')\n",
    "regression_metrics(y_train, pred_train, verbose=True)\n",
    "\n",
    "print('Valid:')\n",
    "regression_metrics(y_valid, pred_valid, verbose=True, plot=True)"
   ]
  },
  {
   "cell_type": "markdown",
   "metadata": {},
   "source": [
    "Выбор гиперпараметров:"
   ]
  },
  {
   "cell_type": "code",
   "execution_count": null,
   "metadata": {},
   "outputs": [],
   "source": [
    "# Best MAE\n",
    "from tqdm.auto import tqdm\n",
    "\n",
    "\n",
    "def func(alpha):\n",
    "    model = make_pipeline(transformer, Ridge(alpha=alpha))\n",
    "    model.fit(X_train, y_train)\n",
    "    \n",
    "    score = mean_absolute_error\n",
    "    \n",
    "    metrics_train = score(y_train, model.predict(X_train))\n",
    "    metrics_valid = score(y_valid, model.predict(X_valid))\n",
    "    return metrics_train, metrics_valid\n",
    "\n",
    "alpha_list = np.logspace(-3, 2, 128)\n",
    "metrics_list = [func(alpha) for alpha in tqdm(alpha_list)]\n",
    "train_list, valid_list = zip(*metrics_list)\n",
    "\n",
    "best_idx = np.argmin(valid_list)\n",
    "alpha_best = alpha_list[best_idx]\n",
    "print('Best alpha:', alpha_best)\n",
    "print('Idx of best alpha:', best_idx)\n",
    "\n",
    "plt.plot(np.log10(alpha_list), train_list, color='blue', label='Train')\n",
    "plt.plot(np.log10(alpha_list), valid_list, color='green', label='Valid')\n",
    "plt.axvline(np.log10(alpha_best), color='purple', lw=2, label='Best alpha')\n",
    "plt.legend()\n",
    "plt.show()"
   ]
  },
  {
   "cell_type": "markdown",
   "metadata": {},
   "source": [
    "Обучаем итоговую модель:"
   ]
  },
  {
   "cell_type": "code",
   "execution_count": null,
   "metadata": {},
   "outputs": [],
   "source": [
    "estimator = Ridge(alpha=alpha_best)\n",
    "\n",
    "model = make_pipeline(transformer, estimator)\n",
    "model.fit(X_fit, y_fit)"
   ]
  },
  {
   "cell_type": "code",
   "execution_count": null,
   "metadata": {},
   "outputs": [],
   "source": [
    "print('Fit:')\n",
    "regression_metrics(y_fit, model.predict(X_fit), verbose=True)\n",
    "\n",
    "print('Test:')\n",
    "regression_metrics(y_test, model.predict(X_test), verbose=True, plot=True)"
   ]
  },
  {
   "cell_type": "markdown",
   "metadata": {},
   "source": [
    "## 1.2. Кросс-валидация\n",
    "\n",
    "Цели:\n",
    "* Выбор модели.\n",
    "* Оценка качества.\n",
    "\n",
    "Основные разновидности кросс-валидации:\n",
    "* __Leave One Out:__ \n",
    "    * по очереди откладываем одно наблюдение для оценки;\n",
    "    * обучаем на всей выборке кроме выбранного наблюдения;\n",
    "    * считаем метрики на отложенном наблюдении.\n",
    "* __K-Fold:__\n",
    "    * делим на $k$ непересекающихся групп (fold-ов);\n",
    "    * далее аналогично Leave One Out.\n",
    "* __Repeated K-Fold:__\n",
    "    * несколько раз с разными разбиениями повторяется K-Fold.\n",
    "* __Stratified K-Fold:__\n",
    "    * Разбиения пропорционально категориальному признаку (распределение по категориям в fold-ах будет похожим).\n",
    "* __Grouped K-Fold:__\n",
    "    * Если одному объекту принадлежит несколько наблюдений (например, пользователь померил несколько моделей обуви)."
   ]
  },
  {
   "cell_type": "code",
   "execution_count": null,
   "metadata": {},
   "outputs": [],
   "source": [
    "X_fit, X_test, y_fit, y_test = train_test_split(X, y, test_size=0.2, random_state=42)\n",
    "\n",
    "print('Fit size:', X_fit.shape[0])\n",
    "print('Test size:', X_test.shape[0])"
   ]
  },
  {
   "cell_type": "markdown",
   "metadata": {},
   "source": [
    "$L_2$-регуляризация с кросс-валидацией:"
   ]
  },
  {
   "cell_type": "code",
   "execution_count": null,
   "metadata": {},
   "outputs": [],
   "source": [
    "from sklearn.linear_model import RidgeCV\n",
    "\n",
    "\n",
    "estimator = RidgeCV(alphas=np.logspace(-3, 2, 64))\n",
    "model = make_pipeline(transformer, estimator)\n",
    "model"
   ]
  },
  {
   "cell_type": "markdown",
   "metadata": {},
   "source": [
    "Настраиваем гиперпараметры и смотрим на качество модели:"
   ]
  },
  {
   "cell_type": "code",
   "execution_count": null,
   "metadata": {},
   "outputs": [],
   "source": [
    "model.fit(X_fit, y_fit)\n",
    "\n",
    "print('Best alpha:', model['ridgecv'].alpha_)\n",
    "print('Coefs:', model['ridgecv'].coef_)"
   ]
  },
  {
   "cell_type": "code",
   "execution_count": null,
   "metadata": {},
   "outputs": [],
   "source": [
    "print('Fit:')\n",
    "regression_metrics(y_fit, model.predict(X_fit), verbose=True)\n",
    "\n",
    "print('Test:')\n",
    "regression_metrics(y_test, model.predict(X_test), verbose=True, plot=True)"
   ]
  },
  {
   "cell_type": "markdown",
   "metadata": {},
   "source": [
    "# 1.3. GridSearch\n",
    "\n",
    "Умеет перебирать все возможные гипер-параметры и находить оптимальные для произвольных алгоритмов машинного обучения."
   ]
  },
  {
   "cell_type": "code",
   "execution_count": null,
   "metadata": {},
   "outputs": [],
   "source": [
    "X_fit, X_test, y_fit, y_test = train_test_split(X, y, test_size=0.2, random_state=42)\n",
    "X_train, X_valid, y_train, y_valid = train_test_split(X_fit, y_fit, test_size=0.1, random_state=42)\n",
    "\n",
    "print('Train size:', X_train.shape[0])\n",
    "print('Valid size:', X_valid.shape[0])\n",
    "print('Test size:', X_test.shape[0])"
   ]
  },
  {
   "cell_type": "code",
   "execution_count": null,
   "metadata": {},
   "outputs": [],
   "source": [
    "from sklearn.model_selection import GridSearchCV\n",
    "\n",
    "\n",
    "grid_search = GridSearchCV(Ridge(), {\n",
    "    'alpha': np.logspace(-3, 2, 32),\n",
    "    'solver': ('svd', 'cholesky', 'lsqr')\n",
    "})\n",
    "\n",
    "model = make_pipeline(transformer, grid_search)\n",
    "model"
   ]
  },
  {
   "cell_type": "code",
   "execution_count": null,
   "metadata": {},
   "outputs": [],
   "source": [
    "model.fit(X_fit, y_fit)\n",
    "model['gridsearchcv'].best_estimator_"
   ]
  },
  {
   "cell_type": "code",
   "execution_count": null,
   "metadata": {},
   "outputs": [],
   "source": [
    "print('Fit:')\n",
    "regression_metrics(y_fit, model.predict(X_fit), verbose=True)\n",
    "\n",
    "print('Test:')\n",
    "regression_metrics(y_test, model.predict(X_test), verbose=True, plot=True)"
   ]
  },
  {
   "cell_type": "markdown",
   "metadata": {},
   "source": [
    "GridSearch для всего пайплайна:"
   ]
  },
  {
   "cell_type": "code",
   "execution_count": null,
   "metadata": {},
   "outputs": [],
   "source": []
  },
  {
   "cell_type": "markdown",
   "metadata": {},
   "source": [
    "# 2. Выбор вида модели"
   ]
  },
  {
   "cell_type": "markdown",
   "metadata": {},
   "source": [
    "__Задача:__ отобрать параметры для метода $k$ ближайших соседей."
   ]
  },
  {
   "cell_type": "code",
   "execution_count": null,
   "metadata": {},
   "outputs": [],
   "source": []
  },
  {
   "cell_type": "markdown",
   "metadata": {},
   "source": [
    "__Задача:__ \n",
    "* обучить понравившуюся Вам модель и подобрать к ней гиперпараметры;\n",
    "* выбрать метрику качества и сравнить с KNN."
   ]
  },
  {
   "cell_type": "code",
   "execution_count": null,
   "metadata": {},
   "outputs": [],
   "source": []
  },
  {
   "cell_type": "markdown",
   "metadata": {},
   "source": [
    "# 3. Отбор признаков\n",
    "\n",
    "Sklearn обладает инструментами для отбора признаков ([ссылка на документацию](https://scikit-learn.org/stable/modules/feature_selection.html)).\n",
    "\n",
    "* Удаление признаков с малой дисперсией.\n",
    "* Отбор признаков с помощью статистических критериев.\n",
    "* С помощью $L_1$ регуляризации.\n",
    "* Рекурсивный отбор признаков.\n",
    "* Последовательный отбор признаков."
   ]
  },
  {
   "cell_type": "code",
   "execution_count": null,
   "metadata": {},
   "outputs": [],
   "source": [
    "from sklearn.feature_selection import (\n",
    "    f_regression,\n",
    "    SelectKBest,\n",
    "    SelectFromModel,\n",
    "    RFE,\n",
    "    SequentialFeatureSelector\n",
    ")"
   ]
  },
  {
   "cell_type": "code",
   "execution_count": null,
   "metadata": {},
   "outputs": [],
   "source": [
    "X_fit.head()"
   ]
  },
  {
   "cell_type": "markdown",
   "metadata": {},
   "source": [
    "Выбор с помощью модели:"
   ]
  },
  {
   "cell_type": "code",
   "execution_count": null,
   "metadata": {},
   "outputs": [],
   "source": [
    "from sklearn.linear_model import LinearRegression\n",
    "\n",
    "\n",
    "features = np.random.normal(size=(128, 16))\n",
    "targets = 0.1 + 0.05 * features[:, 0] + 0.02 * features[:, 2] - 0.1 * features[:, 4] + np.random.normal(scale=1)"
   ]
  },
  {
   "cell_type": "code",
   "execution_count": null,
   "metadata": {},
   "outputs": [],
   "source": [
    "selector = SelectFromModel(LinearRegression(), max_features=16)\n",
    "selector.fit(features, targets)\n",
    "\n",
    "display(selector.get_support())\n",
    "selector.transform(features)[:5]"
   ]
  },
  {
   "cell_type": "markdown",
   "metadata": {},
   "source": [
    "Рекурсивный отбор признаков:"
   ]
  },
  {
   "cell_type": "code",
   "execution_count": null,
   "metadata": {},
   "outputs": [],
   "source": [
    "selector = RFE(LinearRegression(), n_features_to_select=6)\n",
    "selector.fit(features, targets)\n",
    "\n",
    "display(selector.get_support())\n",
    "selector.transform(features)[:5]"
   ]
  },
  {
   "cell_type": "code",
   "execution_count": null,
   "metadata": {},
   "outputs": [],
   "source": [
    "selector = SequentialFeatureSelector(LinearRegression(), n_features_to_select=3)\n",
    "selector.fit(features, targets)\n",
    "\n",
    "display(selector.get_support())\n",
    "selector.transform(features)[:5]"
   ]
  },
  {
   "cell_type": "markdown",
   "metadata": {},
   "source": [
    "Встраиваем в Pipeline:"
   ]
  },
  {
   "cell_type": "code",
   "execution_count": null,
   "metadata": {},
   "outputs": [],
   "source": [
    "selector = SelectKBest(score_func=f_regression, k=5)\n",
    "estimator = LinearRegression()\n",
    "\n",
    "model = make_pipeline(transformer, selector, estimator)\n",
    "model.fit(X_fit, y_fit)\n",
    "\n",
    "print('Fit:')\n",
    "regression_metrics(y_fit, model.predict(X_fit), verbose=True)\n",
    "\n",
    "print('Test:')\n",
    "regression_metrics(y_test, model.predict(X_test), verbose=True, plot=True)"
   ]
  },
  {
   "cell_type": "code",
   "execution_count": null,
   "metadata": {
    "scrolled": false
   },
   "outputs": [],
   "source": [
    "selector = SelectKBest(score_func=f_regression, k=1)\n",
    "estimator = Ridge()\n",
    "\n",
    "pipeline = make_pipeline(transformer, selector, estimator)\n",
    "pipeline.fit(X_fit, y_fit)\n",
    "\n",
    "model = GridSearchCV(pipeline, {\n",
    "    'ridge__alpha': np.logspace(-4, 3, 16),\n",
    "    'ridge__fit_intercept': [False, True],\n",
    "    'columntransformer__standardscaler__with_mean': [False, True],\n",
    "    'selectkbest__k': list(range(1, 9))\n",
    "}, verbose=1, n_jobs=16)\n",
    "model.fit(X_fit, y_fit)\n",
    "model.best_estimator_"
   ]
  },
  {
   "cell_type": "code",
   "execution_count": null,
   "metadata": {},
   "outputs": [],
   "source": [
    "print('Fit:')\n",
    "regression_metrics(y_fit, model.predict(X_fit), verbose=True)\n",
    "\n",
    "print('Test:')\n",
    "regression_metrics(y_test, model.predict(X_test), verbose=True)"
   ]
  },
  {
   "cell_type": "markdown",
   "metadata": {},
   "source": [
    "# 4. Оценка качества модели на кросс-валидации"
   ]
  },
  {
   "cell_type": "code",
   "execution_count": null,
   "metadata": {},
   "outputs": [],
   "source": [
    "estimator = Ridge(alpha=0.01)\n",
    "model = make_pipeline(transformer, estimator)"
   ]
  },
  {
   "cell_type": "code",
   "execution_count": null,
   "metadata": {},
   "outputs": [],
   "source": [
    "from sklearn.model_selection import KFold\n",
    "\n",
    "\n",
    "cv = KFold(n_splits=5, shuffle=True, random_state=42)\n",
    "\n",
    "metrics = []\n",
    "\n",
    "for fit_index, test_index in cv.split(X, y):\n",
    "    X_fit = X.iloc[fit_index]\n",
    "    X_test = X.iloc[test_index]\n",
    "    \n",
    "    y_fit = y.iloc[fit_index]\n",
    "    y_test = y.iloc[test_index]\n",
    "    \n",
    "    model.fit(X_fit, y_fit)\n",
    "    pred_test = model.predict(X_test)\n",
    "    \n",
    "    metrics.append(regression_metrics(y_test, pred_test))\n",
    "    \n",
    "metrics = pd.DataFrame(metrics, columns=['mae', 'mse', 'rmse', 'mape', 'r2'])\n",
    "metrics"
   ]
  },
  {
   "cell_type": "code",
   "execution_count": null,
   "metadata": {},
   "outputs": [],
   "source": [
    "metrics.mean()"
   ]
  },
  {
   "cell_type": "markdown",
   "metadata": {},
   "source": [
    "Из коробки:"
   ]
  },
  {
   "cell_type": "code",
   "execution_count": null,
   "metadata": {},
   "outputs": [],
   "source": [
    "from sklearn.model_selection import cross_val_score\n",
    "\n",
    "\n",
    "cv_result = cross_val_score(model, X, y, cv=cv, scoring='neg_mean_squared_error')\n",
    "cv_result"
   ]
  },
  {
   "cell_type": "code",
   "execution_count": null,
   "metadata": {},
   "outputs": [],
   "source": [
    "cv_result.mean()"
   ]
  },
  {
   "cell_type": "markdown",
   "metadata": {},
   "source": [
    "Несколько метрик:"
   ]
  },
  {
   "cell_type": "code",
   "execution_count": null,
   "metadata": {},
   "outputs": [],
   "source": [
    "from sklearn.model_selection import cross_validate\n",
    "\n",
    "\n",
    "cv_result = cross_validate(model, X, y, cv=cv, \n",
    "                           scoring=['neg_mean_absolute_error', 'neg_mean_squared_error', 'r2'])\n",
    "cv_result"
   ]
  },
  {
   "cell_type": "code",
   "execution_count": null,
   "metadata": {},
   "outputs": [],
   "source": [
    "{k: np.mean(v) for k, v in cv_result.items()}"
   ]
  },
  {
   "cell_type": "code",
   "execution_count": null,
   "metadata": {},
   "outputs": [],
   "source": []
  }
 ],
 "metadata": {
  "kernelspec": {
   "display_name": "Python 3 (ipykernel)",
   "language": "python",
   "name": "python3"
  },
  "language_info": {
   "codemirror_mode": {
    "name": "ipython",
    "version": 3
   },
   "file_extension": ".py",
   "mimetype": "text/x-python",
   "name": "python",
   "nbconvert_exporter": "python",
   "pygments_lexer": "ipython3",
   "version": "3.8.10"
  }
 },
 "nbformat": 4,
 "nbformat_minor": 4
}
