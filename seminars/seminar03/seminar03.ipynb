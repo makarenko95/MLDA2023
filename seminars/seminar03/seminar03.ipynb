{
 "cells": [
  {
   "cell_type": "markdown",
   "metadata": {},
   "source": [
    "# Семинар 3. Линейная регрессия\n",
    "\n",
    "Подключение библиотек. \n",
    "$\n",
    "\\newcommand{\\R}{\\mathbb{R}}\n",
    "\\newcommand{\\X}{\\mathbb{X}}\n",
    "\\newcommand{\\norm}[1]{\\lVert #1 \\rVert}\n",
    "\\newcommand{\\abs}[1]{\\left| #1 \\right|}\n",
    "\\newcommand{\\E}{\\mathbb{E}}\n",
    "\\newcommand{\\D}{\\mathbb{D}}\n",
    "\\renewcommand{\\Prob}{\\mathbb{P}}\n",
    "\\renewcommand{\\le}{\\leqslant}\n",
    "\\renewcommand{\\ge}{\\geqslant}\n",
    "$"
   ]
  },
  {
   "cell_type": "code",
   "execution_count": null,
   "metadata": {},
   "outputs": [],
   "source": [
    "import numpy as np\n",
    "import pandas as pd\n",
    "\n",
    "import matplotlib.pyplot as plt\n",
    "import seaborn as sns\n",
    "import ipywidgets as wg\n",
    "\n",
    "plt.style.use('ggplot')"
   ]
  },
  {
   "cell_type": "markdown",
   "metadata": {},
   "source": [
    "# 1. Линейная регрессия из библиотеки sklearn\n",
    "\n",
    "Для демонстрации воспользуемся датасетом __вес-рост__ ([ссылка](https://www.kaggle.com/mustafaali96/weight-height)):\n",
    "* 10000 наблюдений, 5000 мужчин и 5000 женщин. Признаки:\n",
    "    * Рост в дюймах.\n",
    "    * Вес в фунтах.\n",
    "    * Пол (Male/ Female)."
   ]
  },
  {
   "cell_type": "code",
   "execution_count": null,
   "metadata": {},
   "outputs": [],
   "source": [
    "# прочитать файл weight-height.csv\n",
    "df = pd.read_csv('weight-height.csv')\n",
    "\n",
    "print('Число наблюдений:', df.shape[0])\n",
    "df.head()"
   ]
  },
  {
   "cell_type": "markdown",
   "metadata": {},
   "source": [
    "__Задача:__ Переведем вес и рост в привычные единицы измерения по формулам:\n",
    "* 1 фунт = 0.453592 кг.\n",
    "* 1 дюйм = 2.54 см."
   ]
  },
  {
   "cell_type": "code",
   "execution_count": null,
   "metadata": {},
   "outputs": [],
   "source": [
    "# перевести в кг и см\n",
    "df['Height_cm']"
   ]
  },
  {
   "cell_type": "code",
   "execution_count": null,
   "metadata": {},
   "outputs": [],
   "source": [
    "df.mean()"
   ]
  },
  {
   "cell_type": "markdown",
   "metadata": {},
   "source": [
    "Совместное распределение данных:"
   ]
  },
  {
   "cell_type": "code",
   "execution_count": null,
   "metadata": {},
   "outputs": [],
   "source": [
    "# график совместного распределения\n",
    "sns.jointplot(data=df, x='Height_cm', y='Weight_kg')"
   ]
  },
  {
   "cell_type": "code",
   "execution_count": null,
   "metadata": {},
   "outputs": [],
   "source": [
    "sns.jointplot(data=df, x='Height_cm', y='Weight_kg', hue='Gender')"
   ]
  },
  {
   "cell_type": "code",
   "execution_count": null,
   "metadata": {},
   "outputs": [],
   "source": [
    "# приготовить X и y\n",
    "X = df[['Height_cm']].values\n",
    "y = df['Weight_kg'].values\n",
    "\n",
    "print('X:', X.shape)\n",
    "print('y:', y.shape)"
   ]
  },
  {
   "cell_type": "markdown",
   "metadata": {},
   "source": [
    "## Классическая линейная регрессия\n",
    "\n",
    "Пусть объект описывается $d$ признаками $(x_1, \\ldots, x_d)$ и нужно предсказать ответ $y$.\n",
    "\n",
    "__Линейная регрессия:__ $$ \\hat{y} \\sim \\theta_0 + \\sum\\limits_{k=1}^d \\theta_k x_k, $$\n",
    "\n",
    "* $\\hat{y}$ -- прогнозное значение.\n",
    "* $x_k, k=\\overline{1,n}$ -- значения признаков объекта.\n",
    "* $\\theta_k, k=\\overline{1,n}$ -- параметры модели.\n",
    "\n",
    "Векторная запись: $$\\hat{y} = x^T \\theta. $$\n",
    "\n",
    "__Примечание:__ В этой записи считаем, что $x_0 = 1$.\n",
    "\n",
    "### Обучение: \n",
    "Пусть имеется матрица признаков $X \\in \\R^{n x d}$ и вектор ответов $Y \\in \\R^n$. \n",
    "\n",
    "__Метод наименьших квадратов:__ $$Q(\\theta) = ||Y - X\\theta||^2 = \\sum\\limits_{k=1}^n (Y_k - X_k^T \\theta)^2 \\to \\min\\limits_\\theta.$$\n",
    "\n",
    "Оптимизация:\n",
    "* Аналитическое решение: $$\\hat{\\theta} = (X^T X)^{-1} X^T Y.$$\n",
    "* Итерационные методы: \n",
    "    * _градиентный спуск (GD):_ $$\\theta^{(k+1)} = \\theta^{(k)} - \\alpha \\cdot \\nabla Q(\\theta^{(k)}).$$\n",
    "    * _стохастический градиентный спуск (SGD):_ $$\\theta^{(k+1)} = \\theta^{(k)} - \\alpha \\cdot \\nabla_i Q(\\theta^{(k)}), $$ где градиент берется $\\nabla_i$ берется по наблюдению со случайным индексом $i$.\n",
    "    * _mini-batch стохастический градиентный спуск (Mini-batch SGD)._"
   ]
  },
  {
   "cell_type": "code",
   "execution_count": null,
   "metadata": {},
   "outputs": [],
   "source": [
    "# обучим линейную модель\n",
    "from sklearn.linear_model import LinearRegression\n",
    "\n",
    "model = LinearRegression()\n",
    "model.fit(X, y)\n",
    "model"
   ]
  },
  {
   "cell_type": "raw",
   "metadata": {},
   "source": [
    "# если не делать reshape, то будет такая ошибка:\n",
    "\n",
    "Expected 2D array, got 1D array instead:\n",
    "array=[130.         130.07820137 130.15640274 ... 209.84359726 209.92179863\n",
    " 210.        ].\n",
    "Reshape your data either using array.reshape(-1, 1) if your data has a single feature or array.reshape(1, -1) if it contains a single sample."
   ]
  },
  {
   "cell_type": "markdown",
   "metadata": {},
   "source": [
    "__Задача:__ отобразить набор данных через scatter-график и вывести прямую предсказаний линейной модели."
   ]
  },
  {
   "cell_type": "code",
   "execution_count": null,
   "metadata": {},
   "outputs": [],
   "source": [
    "# код"
   ]
  },
  {
   "cell_type": "markdown",
   "metadata": {},
   "source": [
    "# 2. Работа с категориальными признаками.\n",
    "\n",
    "Заметим, что в наших данных имеется категориальный признак _Gender_."
   ]
  },
  {
   "cell_type": "code",
   "execution_count": null,
   "metadata": {},
   "outputs": [],
   "source": [
    "df.Gender.value_counts()"
   ]
  },
  {
   "cell_type": "code",
   "execution_count": null,
   "metadata": {},
   "outputs": [],
   "source": [
    "sns.jointplot(data=df, x='Height_cm', y='Weight_kg', hue='Gender')"
   ]
  },
  {
   "cell_type": "markdown",
   "metadata": {},
   "source": [
    "__Задача:__ Занумеруем и превратим текстовые признаки в числовые значения:"
   ]
  },
  {
   "cell_type": "code",
   "execution_count": null,
   "metadata": {},
   "outputs": [],
   "source": [
    "from sklearn.preprocessing import LabelEncoder\n",
    "\n",
    "encoder = LabelEncoder()\n",
    "encoder.fit(df.Gender)\n",
    "\n",
    "encoder.transform(df.Gender)"
   ]
  },
  {
   "cell_type": "code",
   "execution_count": null,
   "metadata": {},
   "outputs": [],
   "source": [
    "encoder = LabelEncoder()\n",
    "encoder.fit(['car', 'bike', 'ship', 'chair'])\n",
    "encoder.classes_"
   ]
  },
  {
   "cell_type": "code",
   "execution_count": null,
   "metadata": {},
   "outputs": [],
   "source": [
    "encoder.transform(['car', 'car', 'bike', 'ship', 'ship'])"
   ]
  },
  {
   "cell_type": "code",
   "execution_count": null,
   "metadata": {},
   "outputs": [],
   "source": [
    "from sklearn.preprocessing import OneHotEncoder\n",
    "\n",
    "codes = np.array(['car', 'car', 'bike', 'ship', 'ship']).reshape(-1, 1)\n",
    "onehot = OneHotEncoder(sparse=False, drop='first')\n",
    "onehot.fit(codes)\n",
    "onehot.transform(codes)"
   ]
  },
  {
   "cell_type": "code",
   "execution_count": null,
   "metadata": {},
   "outputs": [],
   "source": [
    "df['Gender_code'] = df.Gender.map({'Female': 0, 'Male': 1})\n",
    "df.Gender_code.value_counts()"
   ]
  },
  {
   "cell_type": "markdown",
   "metadata": {},
   "source": [
    "__Задача:__ Обученить линейную модель с двумя признаками."
   ]
  },
  {
   "cell_type": "code",
   "execution_count": null,
   "metadata": {},
   "outputs": [],
   "source": [
    "X = df[['Height_cm', 'Gender_code']].values\n",
    "y = df['Weight_kg'].values\n",
    "\n",
    "print(X.shape, y.shape)"
   ]
  },
  {
   "cell_type": "code",
   "execution_count": null,
   "metadata": {},
   "outputs": [],
   "source": [
    "model = LinearRegression()\n",
    "model.fit(X, y)\n",
    "model"
   ]
  },
  {
   "cell_type": "markdown",
   "metadata": {},
   "source": [
    "__Задача:__ визуализировать предсказание модели для парней и девушек отдельно."
   ]
  },
  {
   "cell_type": "code",
   "execution_count": null,
   "metadata": {},
   "outputs": [],
   "source": [
    "x_plt = np.linspace(130, 210, 1024)\n",
    "\n",
    "X1 = np.column_stack([x_plt, np.zeros_like(x_plt)])\n",
    "X2 = np.column_stack([x_plt, np.ones_like(x_plt)])\n",
    "\n",
    "print(X1[:5])\n",
    "print(X2[:5])\n",
    "\n",
    "male_pred = model.predict(X2)\n",
    "female_pred = model.predict(X1)"
   ]
  },
  {
   "cell_type": "code",
   "execution_count": null,
   "metadata": {},
   "outputs": [],
   "source": [
    "plt.figure(figsize=(12, 8))\n",
    "# код\n",
    "plt.show()"
   ]
  },
  {
   "cell_type": "markdown",
   "metadata": {},
   "source": [
    "### Интерпретация модели"
   ]
  },
  {
   "cell_type": "code",
   "execution_count": null,
   "metadata": {},
   "outputs": [],
   "source": [
    "print('Коэффициенты:', model.coef_)"
   ]
  },
  {
   "cell_type": "code",
   "execution_count": null,
   "metadata": {},
   "outputs": [],
   "source": [
    "print('Theta_0:', model.intercept_)"
   ]
  },
  {
   "cell_type": "raw",
   "metadata": {},
   "source": [
    "Weight ~ Height - 105\n",
    "Weight ~ 1.06 * Height - 111 if Female\n",
    "Weight ~ 1.06 * Height - 111 + 8.78 * 1 if Male"
   ]
  },
  {
   "cell_type": "code",
   "execution_count": null,
   "metadata": {},
   "outputs": [],
   "source": [
    "features = np.array([[192, 1]])\n",
    "print(features.shape)\n",
    "\n",
    "model.predict(features)"
   ]
  },
  {
   "cell_type": "code",
   "execution_count": null,
   "metadata": {},
   "outputs": [],
   "source": [
    "# демонстрация\n",
    "out = wg.Output()\n",
    "\n",
    "def demo(height, gender):\n",
    "    gender = 1 if gender == 'Male' else 0\n",
    "    with out:\n",
    "        out.clear_output(wait=True)\n",
    "        pred = model.predict([[height, gender]])\n",
    "        print('Прогноз Вашего веса при заданных параметрах:', pred)\n",
    "    return\n",
    "\n",
    "wg.interact(demo,\n",
    "    height=wg.FloatSlider(min=120, max=220, value=170, step=1),\n",
    "    gender=wg.SelectionSlider(options=['Male', 'Female'], value='Male'),\n",
    "    continuous_update=True\n",
    ")\n",
    "display(out)"
   ]
  },
  {
   "cell_type": "markdown",
   "metadata": {},
   "source": [
    "__Задача:__ Добавить в модель переменную `Gender_Code * Height_cm`. Дать интерпретацию, выписать формулы."
   ]
  },
  {
   "cell_type": "code",
   "execution_count": null,
   "metadata": {},
   "outputs": [],
   "source": [
    "# код"
   ]
  },
  {
   "cell_type": "markdown",
   "metadata": {},
   "source": [
    "# 3. Нелинейная линейная регрессия\n",
    "\n",
    "Как добавить нелинейности в линейную модель?"
   ]
  },
  {
   "cell_type": "code",
   "execution_count": null,
   "metadata": {},
   "outputs": [],
   "source": [
    "# задать функцию func = sin x\n",
    "def func(x):\n",
    "    # код"
   ]
  },
  {
   "cell_type": "code",
   "execution_count": null,
   "metadata": {},
   "outputs": [],
   "source": [
    "# сгенерируем выборку с шумом из функции sin x\n",
    "\n",
    "x_low, x_high = -np.pi, np.pi\n",
    "\n",
    "N = 32\n",
    "X = np.linspace(x_low, x_high, N)\n",
    "y = func(X) + np.random.normal(0, 0.2, N)"
   ]
  },
  {
   "cell_type": "code",
   "execution_count": null,
   "metadata": {},
   "outputs": [],
   "source": [
    "x_plt = np.linspace(x_low, x_high, 1024)\n",
    "y_plt = func(x_plt)\n",
    "\n",
    "plt.figure(0, figsize=(12, 5))\n",
    "plt.scatter(X, y, color='blue')\n",
    "plt.plot(x_plt, y_plt, linestyle='--', color='green')\n",
    "plt.show()"
   ]
  },
  {
   "cell_type": "markdown",
   "metadata": {},
   "source": [
    "__Полиномиальная регрессия:__ $$ y \\sim \\theta_0 + \\sum\\limits_{k=1}^p \\theta_k x^k.$$\n",
    "\n",
    "__Задача:__ По входному вектору $x$ выдать матрицу, где в столбцах стоят степени $x$: $$ x \\to (x, x^2, \\ldots, x^p).$$"
   ]
  },
  {
   "cell_type": "code",
   "execution_count": null,
   "metadata": {},
   "outputs": [],
   "source": [
    "P = 5"
   ]
  },
  {
   "cell_type": "markdown",
   "metadata": {},
   "source": [
    "Способ 1:"
   ]
  },
  {
   "cell_type": "code",
   "execution_count": null,
   "metadata": {},
   "outputs": [],
   "source": [
    "# круто, но сложно\n",
    "Xp = np.power(X.reshape(-1, 1), np.arange(1, P + 1).reshape(1, -1))\n",
    "print(Xp.shape)\n",
    "Xp[:2]"
   ]
  },
  {
   "cell_type": "markdown",
   "metadata": {},
   "source": [
    "Способ 2:"
   ]
  },
  {
   "cell_type": "code",
   "execution_count": null,
   "metadata": {},
   "outputs": [],
   "source": [
    "def polynom(x, p):\n",
    "    powers = []\n",
    "    for k in range(1, p+1):\n",
    "        powers.append(x ** k)\n",
    "    return np.column_stack(powers)"
   ]
  },
  {
   "cell_type": "code",
   "execution_count": null,
   "metadata": {},
   "outputs": [],
   "source": [
    "Xp = polynom(X, P)\n",
    "print(Xp.shape)\n",
    "Xp[:2]"
   ]
  },
  {
   "cell_type": "markdown",
   "metadata": {},
   "source": [
    "Способ 3 (рекомендуемый):"
   ]
  },
  {
   "cell_type": "code",
   "execution_count": null,
   "metadata": {},
   "outputs": [],
   "source": [
    "from sklearn.preprocessing import PolynomialFeatures\n",
    "\n",
    "poly = PolynomialFeatures(degree=5, include_bias=False)\n",
    "Xp = poly.fit_transform(X.reshape(-1, 1))\n",
    "print(Xp.shape)\n",
    "Xp[:2]"
   ]
  },
  {
   "cell_type": "markdown",
   "metadata": {},
   "source": [
    "### Работа с числовыми признаками\n",
    "\n",
    "Преобразования числовых признаков:\n",
    "* нормализация: $$\\tilde{x}_k = \\frac{x_k - \\E x_k}{\\sqrt{\\D x_k}}.$$\n",
    "* минмакс-преобразование: $$\\tilde{x}_k = \\frac{x_k - \\min{x_k}}{\\max{x_k} - \\min{x_k}}.$$"
   ]
  },
  {
   "cell_type": "code",
   "execution_count": null,
   "metadata": {},
   "outputs": [],
   "source": [
    "print(Xp.mean(axis=0))\n",
    "print(Xp.std(axis=0))"
   ]
  },
  {
   "cell_type": "code",
   "execution_count": null,
   "metadata": {},
   "outputs": [],
   "source": [
    "# нормализация признаков\n",
    "from sklearn.preprocessing import StandardScaler\n",
    "\n",
    "scaler = StandardScaler()\n",
    "scaler.fit(Xp)\n",
    "\n",
    "Xps = scaler.transform(Xp)"
   ]
  },
  {
   "cell_type": "code",
   "execution_count": null,
   "metadata": {},
   "outputs": [],
   "source": [
    "# новые средние\n",
    "print(np.isclose(Xps.mean(axis=0), 0))\n",
    "print(Xps.std(axis=0))"
   ]
  },
  {
   "cell_type": "markdown",
   "metadata": {},
   "source": [
    "## Пример: полиномиальная регрессия"
   ]
  },
  {
   "cell_type": "code",
   "execution_count": null,
   "metadata": {},
   "outputs": [],
   "source": [
    "# учим модель\n",
    "model = LinearRegression()\n",
    "model.fit(Xps, y)\n",
    "model"
   ]
  },
  {
   "cell_type": "code",
   "execution_count": null,
   "metadata": {},
   "outputs": [],
   "source": [
    "# предсказываем новые данные\n",
    "\n",
    "x_new = np.linspace(x_low, x_high, 1024)\n",
    "# x_new = np.linspace(0.2, 7, 1024)\n",
    "\n",
    "x_new.shape"
   ]
  },
  {
   "cell_type": "code",
   "execution_count": null,
   "metadata": {},
   "outputs": [],
   "source": [
    "X_new = polynom(x_new, P)\n",
    "X_new.shape"
   ]
  },
  {
   "cell_type": "code",
   "execution_count": null,
   "metadata": {},
   "outputs": [],
   "source": [
    "print(X_new.mean(axis=0))\n",
    "print(X_new.std(axis=0))\n",
    "\n",
    "X_new = scaler.transform(X_new)\n",
    "\n",
    "print(X_new.mean(axis=0))\n",
    "print(X_new.std(axis=0))"
   ]
  },
  {
   "cell_type": "code",
   "execution_count": null,
   "metadata": {},
   "outputs": [],
   "source": [
    "y_new = model.predict(X_new)\n",
    "y_new[:5]"
   ]
  },
  {
   "cell_type": "code",
   "execution_count": null,
   "metadata": {},
   "outputs": [],
   "source": [
    "y_old = model.predict(Xps)"
   ]
  },
  {
   "cell_type": "code",
   "execution_count": null,
   "metadata": {},
   "outputs": [],
   "source": [
    "plt.figure(0, figsize=(12, 5))\n",
    "plt.scatter(X, y, color='blue')\n",
    "plt.plot(x_new, func(x_new), color='green', linestyle='--', label='True func')\n",
    "plt.plot(x_new, y_new, color='purple', label='Polynomial Regression')\n",
    "plt.legend()\n",
    "plt.title('y ~ log(x)')\n",
    "plt.show()"
   ]
  },
  {
   "cell_type": "markdown",
   "metadata": {},
   "source": [
    "# Демонстрация переобучения"
   ]
  },
  {
   "cell_type": "code",
   "execution_count": null,
   "metadata": {},
   "outputs": [],
   "source": [
    "N = 32\n",
    "\n",
    "X = np.linspace(x_low, x_high, N)\n",
    "y = func(X) + np.random.normal(0, 0.2, size=N)"
   ]
  },
  {
   "cell_type": "code",
   "execution_count": null,
   "metadata": {},
   "outputs": [],
   "source": [
    "from sklearn.linear_model import Ridge"
   ]
  },
  {
   "cell_type": "code",
   "execution_count": null,
   "metadata": {},
   "outputs": [],
   "source": [
    "out = wg.Output()\n",
    "\n",
    "def demo(p, fix_ylim):\n",
    "    Xp = polynom(X, p)\n",
    "    \n",
    "    # scaler\n",
    "    scaler = StandardScaler().fit(Xp)    \n",
    "    Xps = scaler.transform(Xp)\n",
    "    \n",
    "    # model\n",
    "    model = LinearRegression() #\n",
    "#     model = Ridge(alpha=1)\n",
    "    model.fit(Xps, y)\n",
    "    \n",
    "    # prediction\n",
    "    x_new = np.linspace(x_low, x_high, 1024)\n",
    "\n",
    "    X_new = polynom(x_new, p)\n",
    "    X_new = scaler.transform(X_new)\n",
    "    y_new = model.predict(X_new)\n",
    "    \n",
    "    with out:\n",
    "        out.clear_output(wait=True)\n",
    "        plt.figure(0, figsize=(12, 5))\n",
    "        plt.scatter(X, y, color='blue')\n",
    "        plt.plot(x_new, func(x_new), color='green', linestyle='--', label='True func')\n",
    "        plt.plot(x_new, y_new, color='purple', label=f'p={p}')\n",
    "        plt.legend()\n",
    "        plt.title('y ~ log(x)')\n",
    "        if fix_ylim:\n",
    "            plt.ylim(-2, 3)\n",
    "        plt.show()\n",
    "        print(model.coef_)\n",
    "        print(model.intercept_)\n",
    "    \n",
    "wg.interact(demo,\n",
    "    p=wg.IntSlider(min=1, max=X.shape[0] + 20, value=1),\n",
    "    fix_ylim=wg.Checkbox(description='Fix ylim', value=False),\n",
    "    continuous_update=True\n",
    ")\n",
    "display(out)"
   ]
  },
  {
   "cell_type": "code",
   "execution_count": null,
   "metadata": {},
   "outputs": [],
   "source": []
  }
 ],
 "metadata": {
  "kernelspec": {
   "display_name": "Python 3 (ipykernel)",
   "language": "python",
   "name": "python3"
  },
  "language_info": {
   "codemirror_mode": {
    "name": "ipython",
    "version": 3
   },
   "file_extension": ".py",
   "mimetype": "text/x-python",
   "name": "python",
   "nbconvert_exporter": "python",
   "pygments_lexer": "ipython3",
   "version": "3.9.16"
  }
 },
 "nbformat": 4,
 "nbformat_minor": 4
}
