{
 "cells": [
  {
   "cell_type": "markdown",
   "metadata": {},
   "source": [
    "# Семинар 2. Метрические методы классификации и регрессии.\n",
    "\n",
    "Подключение библиотек. \n",
    "$\n",
    "\\newcommand{\\R}{\\mathbb{R}}\n",
    "\\newcommand{\\X}{\\mathbb{X}}\n",
    "\\newcommand{\\norm}[1]{\\lVert #1 \\rVert}\n",
    "\\newcommand{\\abs}[1]{\\left| #1 \\right|}\n",
    "\\newcommand{\\E}{\\mathbb{E}}\n",
    "\\renewcommand{\\Prob}{\\mathbb{P}}\n",
    "\\renewcommand{\\le}{\\leqslant}\n",
    "\\renewcommand{\\ge}{\\geqslant}\n",
    "$"
   ]
  },
  {
   "cell_type": "code",
   "execution_count": null,
   "metadata": {},
   "outputs": [],
   "source": [
    "import pandas as pd\n",
    "import numpy as np\n",
    "\n",
    "import matplotlib.pyplot as plt\n",
    "import seaborn as sns\n",
    "import ipywidgets as wg\n",
    "\n",
    "from sklearn.neighbors import KNeighborsClassifier, KNeighborsRegressor\n",
    "from sklearn.preprocessing import LabelEncoder"
   ]
  },
  {
   "cell_type": "markdown",
   "metadata": {},
   "source": [
    "# 1. Примеры расстояний\n",
    "\n",
    "* Расстояние Минковского ($r \\ge 1$): $$\\rho(x, x') = \\left(\\sum_{k=1}^n \\abs{x_k - x'_k}^r\\right)^{1/r}.$$\n",
    "\n",
    "* Евклидово расстояние ($r = 2$): $$\\rho(x, x') = \\left(\\sum_{k=1}^n \\abs{x_k - x'_k}^2\\right)^{1/2}.$$\n",
    "\n",
    "* Манхэттенское расстояние ($r = 1$): $$\\rho(x, x') = \\sum_{k=1}^n \\abs{x_k - x'_k}.$$\n",
    "\n",
    "* Расстояние Чебышёва ($r = +\\infty$): $$\\rho(x, x') = \\max_{1 \\le k \\le n} \\abs{x_k - x'_k}.$$\n",
    "\n",
    "__Задача:__ Реализовать функцию, которая возвращает расстояние Минковского между двумя векторами.\n",
    "\n",
    "* На вход:\n",
    "    * вектор $x$;\n",
    "    * вектор $y$;\n",
    "    * параметр $0 < r < \\infty$.\n",
    "* На выход:\n",
    "    * расстояние Минковского $r$ между векторами $x$ и $y$"
   ]
  },
  {
   "cell_type": "code",
   "execution_count": null,
   "metadata": {},
   "outputs": [],
   "source": [
    "def distance(x, y, r=2):\n",
    "    # написать код"
   ]
  },
  {
   "cell_type": "markdown",
   "metadata": {},
   "source": [
    "Рисуем линии уровня для расстояний: "
   ]
  },
  {
   "cell_type": "code",
   "execution_count": null,
   "metadata": {},
   "outputs": [],
   "source": [
    "def plot_distance(r):\n",
    "    N = 256\n",
    "    X_list = np.linspace(-1, 1, N)\n",
    "    Y_list = np.linspace(-1, 1, N)\n",
    "\n",
    "    X = np.zeros((N, N))\n",
    "    Y = np.zeros((N, N))\n",
    "    Z = np.zeros((N, N))\n",
    "\n",
    "    for i, x in enumerate(X_list):\n",
    "        for k, y in enumerate(Y_list):\n",
    "            X[i, k] = x\n",
    "            Y[i, k] = y\n",
    "            Z[i, k] = distance(np.array([x, y]), np.array([0, 0]), r)\n",
    "\n",
    "\n",
    "    plt.figure(figsize=(5, 5))\n",
    "    plt.contour(X, Y, Z, levels=32)\n",
    "    plt.title(f'Расстояние Минковского, r={r}')\n",
    "    plt.show()"
   ]
  },
  {
   "cell_type": "code",
   "execution_count": null,
   "metadata": {},
   "outputs": [],
   "source": [
    "plot_distance(2)\n",
    "plot_distance(1)\n",
    "plot_distance(0.5)\n",
    "plot_distance(20)"
   ]
  },
  {
   "cell_type": "markdown",
   "metadata": {},
   "source": [
    "Немного [интерактива](https://ipywidgets.readthedocs.io/en/stable/):"
   ]
  },
  {
   "cell_type": "code",
   "execution_count": null,
   "metadata": {},
   "outputs": [],
   "source": [
    "output = wg.Output()\n",
    "\n",
    "def func(r):\n",
    "    with output:\n",
    "        output.clear_output(wait=True)\n",
    "        plot_distance(r)\n",
    "\n",
    "wg.interact(func,\n",
    "            r=wg.FloatSlider(min=0.1, max=10, value=2.),\n",
    "            continuous_update=False)\n",
    "display(output)"
   ]
  },
  {
   "cell_type": "markdown",
   "metadata": {},
   "source": [
    "## Любопытный факт.\n",
    "\n",
    "Линии уровня на рисунке называются суперэллипсам: $$ \\abs{\\frac{x}{a}}^n + \\abs{\\frac{y}{b}}^n = 1$$\n",
    "\n",
    "Пример использования: $$ \\abs{\\frac{x}{60}}^5 + \\abs{\\frac{y}{60}}^5 = 1$$ -- иконки в iOS! Называется сквиркл: square + circle. Подробнее в [источнике](https://droider.ru/post/iphone-eto-skvirkl-eto-chto-eshhyo-za-zver-16-08-2020/)."
   ]
  },
  {
   "cell_type": "markdown",
   "metadata": {},
   "source": [
    "# 2. Классификация\n",
    "\n",
    "## 2.1. Метод $k$ ближайших соседей\n",
    "\n",
    "Обобщенный метрический классификатор: $$ a(u, \\mathbb{X}) = \\arg\\max\\limits_{y \\in \\mathbb{Y}} \\sum\\limits_{i=1}^{l} \\left[y_{u}^{(i)} = y\\right] \\cdot w(i, u),$$\n",
    "где $y_u^{(i)}$ -- $i$-ый сосед объекта $u \\in \\mathbb{X}$, $w(i, u)$ -- оценка степени важности $i$-го соседа для классификации объекта $u$.\n",
    "\n",
    "__Метод $k$ ближайших соседей:__\n",
    "    $$\n",
    "        w(i, u) = [i \\le k], \\quad a(u, \\X) = \\arg\\max_{y \\in Y} \\sum_{i=1}^{k}[y_u^{(i)} = y]\n",
    "    $$"
   ]
  },
  {
   "cell_type": "code",
   "execution_count": null,
   "metadata": {},
   "outputs": [],
   "source": [
    "frame = sns.load_dataset('iris')\n",
    "frame['species_code'] = LabelEncoder().fit_transform(frame['species'])\n",
    "\n",
    "print('Число записей:', frame.shape[0])\n",
    "frame.head()"
   ]
  },
  {
   "cell_type": "markdown",
   "metadata": {},
   "source": [
    "__Задача__ Построить диаграмму рассеяния для `sepal_length` и `petal_length`, раскрасить по цветам в зависимости от целевой переменной `species`."
   ]
  },
  {
   "cell_type": "code",
   "execution_count": null,
   "metadata": {},
   "outputs": [],
   "source": [
    "# код"
   ]
  },
  {
   "cell_type": "markdown",
   "metadata": {},
   "source": [
    "Построим классификатор kNN для определения типа ириса:"
   ]
  },
  {
   "cell_type": "code",
   "execution_count": null,
   "metadata": {},
   "outputs": [],
   "source": [
    "X = frame[['sepal_length', 'petal_length']].values\n",
    "y = frame.species_code.values"
   ]
  },
  {
   "cell_type": "code",
   "execution_count": null,
   "metadata": {},
   "outputs": [],
   "source": [
    "knn = KNeighborsClassifier(3)\n",
    "knn.fit(X, y)\n",
    "knn"
   ]
  },
  {
   "cell_type": "code",
   "execution_count": null,
   "metadata": {},
   "outputs": [],
   "source": [
    "frame['prediction'] = knn.predict(X)\n",
    "frame[frame.species_code != frame.prediction].head()"
   ]
  },
  {
   "cell_type": "markdown",
   "metadata": {},
   "source": [
    "Нарисуем \"карту\" влияний."
   ]
  },
  {
   "cell_type": "code",
   "execution_count": null,
   "metadata": {},
   "outputs": [],
   "source": [
    "def plot_knn(knn, title='', xlabel='', ylabel=''):\n",
    "    X = knn._fit_X\n",
    "    y = knn._y\n",
    "    \n",
    "    x_low = X.min(axis=0)\n",
    "    x_high = X.max(axis=0)\n",
    "    x_d = x_high - x_low\n",
    "        \n",
    "    x_low -= 0.05 * x_d\n",
    "    x_high += 0.05 * x_d\n",
    "    \n",
    "    X1 = np.linspace(x_low[0], x_high[0], 256)\n",
    "    X2 = np.linspace(x_low[1], x_high[1], 256)\n",
    "    \n",
    "    X1, X2 = np.meshgrid(X1, X2)\n",
    "    Z = np.column_stack([X1.flatten(), X2.flatten()])\n",
    "    Z = knn.predict(Z)\n",
    "    Z = Z.reshape(X1.shape)\n",
    "    \n",
    "    plt.figure(figsize=(7, 7))\n",
    "    plt.contourf(X1, X2, Z, cmap='brg', levels=3, alpha=0.6)\n",
    "    plt.scatter(X[:, 0], X[:, 1], c=y, cmap='brg')\n",
    "    plt.title(title)\n",
    "    plt.xlabel(xlabel)\n",
    "    plt.ylabel(ylabel)\n",
    "    plt.show()"
   ]
  },
  {
   "cell_type": "markdown",
   "metadata": {},
   "source": [
    "Метод одного ближайшего соседа:"
   ]
  },
  {
   "cell_type": "code",
   "execution_count": null,
   "metadata": {},
   "outputs": [],
   "source": [
    "knn = KNeighborsClassifier(n_neighbors=1)\n",
    "knn.fit(X, y)\n",
    "plot_knn(knn, 'KNN(1)', 'sepal_length', 'petal_length')"
   ]
  },
  {
   "cell_type": "code",
   "execution_count": null,
   "metadata": {},
   "outputs": [],
   "source": [
    "knn = KNeighborsClassifier(n_neighbors=2)\n",
    "knn.fit(X, y)\n",
    "plot_knn(knn, 'KNN(2)', 'sepal_length', 'petal_length')"
   ]
  },
  {
   "cell_type": "code",
   "execution_count": null,
   "metadata": {},
   "outputs": [],
   "source": [
    "knn = KNeighborsClassifier(n_neighbors=5)\n",
    "knn.fit(X, y)\n",
    "plot_knn(knn, 'KNN(5)', 'sepal_length', 'petal_length')"
   ]
  },
  {
   "cell_type": "code",
   "execution_count": null,
   "metadata": {},
   "outputs": [],
   "source": [
    "knn = KNeighborsClassifier(n_neighbors=30)\n",
    "knn.fit(X, y)\n",
    "plot_knn(knn, 'KNN(30)', 'sepal_length', 'petal_length')"
   ]
  },
  {
   "cell_type": "markdown",
   "metadata": {},
   "source": [
    "И снова интерактив:"
   ]
  },
  {
   "cell_type": "code",
   "execution_count": null,
   "metadata": {},
   "outputs": [],
   "source": [
    "output = wg.Output()\n",
    "\n",
    "def func(k):\n",
    "    with output:\n",
    "        output.clear_output(wait=True)\n",
    "        knn = KNeighborsClassifier(k)\n",
    "        knn.fit(X, y)\n",
    "        plot_knn(knn, f'KNN({k})', 'sepal_length', 'petal_length')\n",
    "    \n",
    "wg.interact(func,\n",
    "            k=wg.IntSlider(min=1, max=50, value=5),\n",
    "            continuous_update=False)\n",
    "display(output)"
   ]
  },
  {
   "cell_type": "markdown",
   "metadata": {},
   "source": [
    "## 2.2. Взвешенный метод ближайших соседей\n",
    "\n",
    "Метод $k$ __взвешенных__ ближайших соседей:\n",
    "    $$w(i, u) = [i \\le k] \\cdot w_i, \\quad a(u, \\X) = \\arg\\max_{y \\in Y} \\sum_{i=1}^{k}[y_u^{(i)} = y] w_i.$$\n",
    "    \n",
    "Возможные подходы:\n",
    "\n",
    "* Линейно убывающие веса: $$ w_i = \\frac{k + 1 - i}{k}. $$\n",
    "* Экспоненциально убывающие веса: $$ w_i = q^i, \\quad 0 < q < 1. $$\n",
    "\n",
    "__Задача:__ Реализовать функцию экспоненциальных весов.\n",
    "* На вход: \n",
    "    * вектор расстояний длины $k$ (которые мы использовать не будем);\n",
    "    * параметр $q$, значение по умолчанию $q=0.9$.\n",
    "* На выход:\n",
    "    * массив длины $k$ с весами $q^i, 1 \\le i \\le k$."
   ]
  },
  {
   "cell_type": "code",
   "execution_count": null,
   "metadata": {},
   "outputs": [],
   "source": [
    "def exp_weights_func(distances, q=0.9):\n",
    "    # код"
   ]
  },
  {
   "cell_type": "code",
   "execution_count": null,
   "metadata": {},
   "outputs": [],
   "source": [
    "indices = np.arange(50)\n",
    "weights = exp_weights_func(indices)\n",
    "\n",
    "plt.figure(figsize=(15, 4))\n",
    "plt.bar(indices, weights)\n",
    "plt.title('Экспоненциально убывающие веса')\n",
    "plt.xlabel('Номер соседа')\n",
    "plt.ylabel('Вес')\n",
    "plt.show()"
   ]
  },
  {
   "cell_type": "code",
   "execution_count": null,
   "metadata": {},
   "outputs": [],
   "source": [
    "def exp_weights(distances):\n",
    "    return np.array([exp_weights_func(row) for row in distances])\n",
    "\n",
    "knn = KNeighborsClassifier(5, weights=exp_weights)\n",
    "knn.fit(X, y)\n",
    "knn.predict(X)"
   ]
  },
  {
   "cell_type": "code",
   "execution_count": null,
   "metadata": {},
   "outputs": [],
   "source": [
    "knn = KNeighborsClassifier(n_neighbors=7, weights=exp_weights)\n",
    "knn.fit(X, y)\n",
    "plot_knn(knn, 'KNN(7, weights=exp(0.9)', 'sepal_length', 'petal_length')"
   ]
  },
  {
   "cell_type": "code",
   "execution_count": null,
   "metadata": {},
   "outputs": [],
   "source": [
    "# обертка\n",
    "def exp_weights(q):\n",
    "    def func(d):\n",
    "        return np.array([exp_weights_func(row, q) for row in d])\n",
    "    return func"
   ]
  },
  {
   "cell_type": "markdown",
   "metadata": {},
   "source": [
    "Интерактивчик:"
   ]
  },
  {
   "cell_type": "code",
   "execution_count": null,
   "metadata": {},
   "outputs": [],
   "source": [
    "output = wg.Output()\n",
    "\n",
    "def func(k, q):\n",
    "    with output:\n",
    "        output.clear_output(wait=True)\n",
    "        knn = KNeighborsClassifier(k, weights=exp_weights(q))\n",
    "        knn.fit(X, y)\n",
    "        plot_knn(knn, f'KNN({k}, weights=exp({q}))', 'sepal_length', 'petal_length')\n",
    "    \n",
    "wg.interact(func,\n",
    "            k=wg.IntSlider(min=1, max=50, value=5),\n",
    "            q=wg.FloatSlider(min=0.01, max=1.0, step=0.01, value=1.0),\n",
    "            continuous_update=False)\n",
    "display(output)"
   ]
  },
  {
   "cell_type": "markdown",
   "metadata": {},
   "source": [
    "График весов:"
   ]
  },
  {
   "cell_type": "code",
   "execution_count": null,
   "metadata": {},
   "outputs": [],
   "source": [
    "output = wg.Output()\n",
    "\n",
    "def func(q):\n",
    "    with output:\n",
    "        output.clear_output(wait=True)\n",
    "        \n",
    "        indices = np.arange(50)\n",
    "        weights = exp_weights_func(indices, q)\n",
    "\n",
    "        plt.figure(figsize=(15, 4))\n",
    "        plt.bar(indices, weights)\n",
    "        plt.title(f'Экспоненциально убывающие веса, q={q}')\n",
    "        plt.xlabel('Номер соседа')\n",
    "        plt.ylabel('Вес')\n",
    "        plt.show()\n",
    "    \n",
    "wg.interact(func,\n",
    "            q=wg.FloatSlider(min=0.01, max=1.0, step=0.01, value=1.0),\n",
    "            continuous_update=False)\n",
    "display(output)"
   ]
  },
  {
   "cell_type": "markdown",
   "metadata": {},
   "source": [
    "# 3. Регрессия\n",
    "\n",
    "## 3.1. Метод $k$ ближайших соседей\n",
    "\n",
    "* Классический: $$ w(i, u) = [i \\le k], $$ $$ a(u, \\X) = \\frac{1}{k} \\cdot \\sum_{i=1}^k y_u^{(i)}. $$\n",
    "* Общий вид (взвешенное среднее): $$a(u, \\X) = \\frac{\\sum\\limits_{i=1}^{\\ell} w(i, u) \\cdot  y_u^{(i)}}{\\sum\\limits_{i = 1}^{\\ell} w(i, u)}.$$\n",
    "\n",
    "Возможные подходы:\n",
    "\n",
    "* Линейно убывающие веса: $$ w_i = \\frac{k + 1 - i}{k}. $$\n",
    "* Обратное расстояние: $$ w(i, u) = \\frac{1}{\\rho(u, x_u^{(i)})}. $$\n",
    "* Экспоненциально убывающие веса: $$ w_i = q^i, \\quad 0 < q < 1. $$"
   ]
  },
  {
   "cell_type": "code",
   "execution_count": null,
   "metadata": {},
   "outputs": [],
   "source": [
    "N = 48\n",
    "\n",
    "def real_func(x):\n",
    "    return np.sin(x) / x\n",
    "\n",
    "X = np.linspace(-2 * np.pi, 2 * np.pi, N)\n",
    "y = real_func(X) + np.random.normal(0, 0.2, size=N)\n",
    "\n",
    "print('Размер X:', X.shape)\n",
    "print('Размер y:', y.shape)\n",
    "\n",
    "x_plt = np.linspace(-2 * np.pi, 2 * np.pi, 1024)\n",
    "y_plt = real_func(x_plt)\n",
    "\n",
    "plt.figure(figsize=(15, 4))\n",
    "plt.scatter(X, y, color='blue')\n",
    "plt.plot(x_plt, y_plt, color='green', linestyle='--')\n",
    "plt.show()"
   ]
  },
  {
   "cell_type": "markdown",
   "metadata": {},
   "source": [
    "Учим KNN:"
   ]
  },
  {
   "cell_type": "code",
   "execution_count": null,
   "metadata": {},
   "outputs": [],
   "source": [
    "knn = KNeighborsRegressor(n_neighbors=1)\n",
    "knn.fit(X.reshape(-1, 1), y)"
   ]
  },
  {
   "cell_type": "code",
   "execution_count": null,
   "metadata": {},
   "outputs": [],
   "source": [
    "def plot_knn_reg(knn, title='', xlabel='X', ylabel='y'):\n",
    "    x_plt = np.linspace(-2 * np.pi, 2 * np.pi, 1024)\n",
    "    knn_plt = knn.predict(x_plt.reshape(-1, 1))\n",
    "    \n",
    "    plt.figure(figsize=(15, 4))\n",
    "    plt.scatter(X, y, color='blue')\n",
    "    plt.plot(x_plt, knn_plt, color='blue', lw=1)\n",
    "    plt.plot(x_plt, y_plt, color='green', linestyle='--')\n",
    "    plt.xlabel(xlabel)\n",
    "    plt.ylabel(ylabel)\n",
    "    plt.title(title)\n",
    "    plt.show()"
   ]
  },
  {
   "cell_type": "code",
   "execution_count": null,
   "metadata": {},
   "outputs": [],
   "source": [
    "plot_knn_reg(knn, f'KNN(1)')"
   ]
  },
  {
   "cell_type": "code",
   "execution_count": null,
   "metadata": {},
   "outputs": [],
   "source": [
    "output = wg.Output()\n",
    "\n",
    "def func(k):\n",
    "    with output:\n",
    "        output.clear_output(wait=True)\n",
    "        knn = KNeighborsRegressor(k, )\n",
    "        knn.fit(X.reshape(-1, 1), y)\n",
    "        plot_knn_reg(knn, f'KNN({k})')\n",
    "    \n",
    "wg.interact(func,\n",
    "            k=wg.IntSlider(min=1, max=N, value=5),\n",
    "            continuous_update=False)\n",
    "display(output)"
   ]
  },
  {
   "cell_type": "markdown",
   "metadata": {},
   "source": [
    "## 3.2. Метод $k$ взвешенных ближайших соседей\n",
    "\n",
    "__Задача:__ реализовать функцию, возвращающую обратное расстояние.\n",
    "* На входе:\n",
    "    * массив расстояний distances;\n",
    "* На выходе:\n",
    "    * массив соответствующих весов для них.\n",
    "    \n",
    "__Предупреждение:__ Сумма весов должна быть равна 1."
   ]
  },
  {
   "cell_type": "code",
   "execution_count": null,
   "metadata": {},
   "outputs": [],
   "source": [
    "def inv_dist(distances):\n",
    "    # код"
   ]
  },
  {
   "cell_type": "markdown",
   "metadata": {},
   "source": [
    "Посмотрим, как это выглядит:"
   ]
  },
  {
   "cell_type": "code",
   "execution_count": null,
   "metadata": {},
   "outputs": [],
   "source": [
    "output = wg.Output()\n",
    "\n",
    "def func(k):\n",
    "    with output:\n",
    "        output.clear_output(wait=True)\n",
    "        knn = KNeighborsRegressor(k, weights=inv_dist)\n",
    "        knn.fit(X.reshape(-1, 1), y)\n",
    "        plot_knn_reg(knn, f'KNN({k}, weights=inv_dist)')\n",
    "    \n",
    "wg.interact(func,\n",
    "            k=wg.IntSlider(min=1, max=N, value=5),\n",
    "            continuous_update=False)\n",
    "display(output)"
   ]
  },
  {
   "cell_type": "markdown",
   "metadata": {},
   "source": [
    "Посмотрим теперь экспонециальное взвешивание:"
   ]
  },
  {
   "cell_type": "code",
   "execution_count": null,
   "metadata": {},
   "outputs": [],
   "source": [
    "def reg_exp_weights_func(distances, q=0.9):\n",
    "    # код"
   ]
  },
  {
   "cell_type": "code",
   "execution_count": null,
   "metadata": {},
   "outputs": [],
   "source": [
    "def reg_exp_weights(q):\n",
    "    def func(d):\n",
    "        return np.array([reg_exp_weights_func(row, q) for row in d])\n",
    "    return func"
   ]
  },
  {
   "cell_type": "code",
   "execution_count": null,
   "metadata": {},
   "outputs": [],
   "source": [
    "output = wg.Output()\n",
    "\n",
    "def func(k, q):\n",
    "    with output:\n",
    "        output.clear_output(wait=True)\n",
    "        knn = KNeighborsRegressor(k, weights=reg_exp_weights(q))\n",
    "        knn.fit(X.reshape(-1, 1), y)\n",
    "        plot_knn_reg(knn, f'KNN({k}, weights=exp({q}))')\n",
    "    \n",
    "wg.interact(func,\n",
    "            k=wg.IntSlider(min=1, max=50, value=5),\n",
    "            q=wg.FloatSlider(min=0.01, max=1.0, step=0.01, value=1.0),\n",
    "            continuous_update=False)\n",
    "display(output)"
   ]
  },
  {
   "cell_type": "markdown",
   "metadata": {},
   "source": [
    "# 4. Упражнения\n",
    "\n",
    "__Задача 1:__ Реализовать метод $k$ ближайших соседей для регрессии и классификации с нуля."
   ]
  },
  {
   "cell_type": "code",
   "execution_count": null,
   "metadata": {},
   "outputs": [],
   "source": [
    "class HandmadeKNNClassifier:\n",
    "    def __init__(self, n_neighbors=5):\n",
    "        self.n_neighbors = n_neighbors\n",
    "        \n",
    "    # на вход: \n",
    "    # X -- матрица признаков, np.array, shape (N, d)\n",
    "    # y -- массив ответов, np.array, shape (N,)\n",
    "    # на выход:\n",
    "    # self -- объект класса\n",
    "    # этот метод уже реализован\n",
    "    def fit(self, X, y):\n",
    "        self._fit_X = X.copy()\n",
    "        self._y = y.copy()\n",
    "        return self\n",
    "        \n",
    "    # на вход: \n",
    "    # X -- матрица признаков, np.array, shape (N, d)\n",
    "    # на выход:\n",
    "    # y -- массив меток, np.array, shape (N,)\n",
    "    def predict(self, X):\n",
    "        # реализуйте этот метод\n",
    "        return np.zeros(X.shape[0])"
   ]
  },
  {
   "cell_type": "code",
   "execution_count": null,
   "metadata": {},
   "outputs": [],
   "source": [
    "# проверка\n",
    "X = frame[['sepal_length', 'sepal_width']].values\n",
    "y = frame['species_code'].values\n",
    "\n",
    "k = 6\n",
    "\n",
    "knn = HandmadeKNNClassifier(n_neighbors=k)\n",
    "knn.fit(X, y)\n",
    "\n",
    "plot_knn(knn, f'HandmadeKNN({k})', 'sepal_length', 'petal_length')\n",
    "\n",
    "knn_gt = KNeighborsClassifier(n_neighbors=k)\n",
    "knn_gt.fit(X, y)\n",
    "if not (knn.predict(X) == knn_gt.predict(X)).min():\n",
    "    print('Ответы не совпадают с KNeighborsClassifier из sklearn')\n",
    "else:\n",
    "    print('Успех!')"
   ]
  },
  {
   "cell_type": "code",
   "execution_count": null,
   "metadata": {},
   "outputs": [],
   "source": [
    "class HandmadeKNNRegressor:\n",
    "    def __init__(self, n_neighbors=5):\n",
    "        self.n_neighbors = n_neighbors\n",
    "        \n",
    "    # на вход: \n",
    "    # X -- матрица признаков, np.array, shape (N, d)\n",
    "    # y -- массив ответов, np.array, shape (N,)\n",
    "    # на выход:\n",
    "    # self -- объект класса\n",
    "    # этот метод уже реализован\n",
    "    def fit(self, X, y):\n",
    "        self._fit_X = X.copy()\n",
    "        self._y = y.copy()\n",
    "        return self\n",
    "        \n",
    "    # на вход: \n",
    "    # X -- матрица признаков, np.array, shape (N, d)\n",
    "    # на выход:\n",
    "    # y -- массив меток, np.array, shape (N,)\n",
    "    def predict(self, X):\n",
    "        # реализуйте этот метод\n",
    "        return np.zeros(X.shape[0])"
   ]
  },
  {
   "cell_type": "code",
   "execution_count": null,
   "metadata": {},
   "outputs": [],
   "source": [
    "# проверка\n",
    "N = 48\n",
    "def real_func(x):\n",
    "    return np.sin(x) / x\n",
    "\n",
    "X = np.linspace(-2 * np.pi, 2 * np.pi, N)\n",
    "y = real_func(X) + np.random.normal(0, 0.2, size=N)\n",
    "X = X.reshape(-1, 1)\n",
    "\n",
    "k = 7\n",
    "\n",
    "knn = HandmadeKNNRegressor(n_neighbors=k)\n",
    "knn.fit(X, y)\n",
    "\n",
    "plot_knn_reg(knn, f'HandmadeKNN({k})')\n",
    "\n",
    "knn_gt = KNeighborsRegressor(n_neighbors=k)\n",
    "knn_gt.fit(X, y)\n",
    "\n",
    "if not (knn.predict(X) == knn_gt.predict(X)).min():\n",
    "    print('Ответы не совпадают с KNeighborsRegressor из sklearn')\n",
    "else:\n",
    "    print('Успех!')"
   ]
  },
  {
   "cell_type": "code",
   "execution_count": null,
   "metadata": {},
   "outputs": [],
   "source": []
  }
 ],
 "metadata": {
  "kernelspec": {
   "display_name": "Python 3 (ipykernel)",
   "language": "python",
   "name": "python3"
  },
  "language_info": {
   "codemirror_mode": {
    "name": "ipython",
    "version": 3
   },
   "file_extension": ".py",
   "mimetype": "text/x-python",
   "name": "python",
   "nbconvert_exporter": "python",
   "pygments_lexer": "ipython3",
   "version": "3.9.16"
  }
 },
 "nbformat": 4,
 "nbformat_minor": 4
}
