{
 "cells": [
  {
   "cell_type": "markdown",
   "metadata": {},
   "source": [
    "# Семинар 4. Линейные модели в задачах классификации\n",
    "\n",
    "Подключение библиотек. \n",
    "$\n",
    "\\newcommand{\\R}{\\mathbb{R}}\n",
    "\\newcommand{\\X}{\\mathbb{X}}\n",
    "\\newcommand{\\norm}[1]{\\lVert #1 \\rVert}\n",
    "\\newcommand{\\abs}[1]{\\left| #1 \\right|}\n",
    "\\newcommand{\\E}{\\mathbb{E}}\n",
    "\\newcommand{\\D}{\\mathbb{D}}\n",
    "\\renewcommand{\\Prob}{\\mathbb{P}}\n",
    "\\renewcommand{\\le}{\\leqslant}\n",
    "\\renewcommand{\\ge}{\\geqslant}\n",
    "\\newcommand{\\eps}{\\varepsilon}\n",
    "\\newcommand{\\Normal}{\\mathcal{N}}\n",
    "$"
   ]
  },
  {
   "cell_type": "code",
   "execution_count": null,
   "metadata": {},
   "outputs": [],
   "source": [
    "import numpy as np\n",
    "import pandas as pd\n",
    "\n",
    "import matplotlib.pyplot as plt\n",
    "import seaborn as sns\n",
    "import ipywidgets as wg\n",
    "\n",
    "from matplotlib.colors import ListedColormap\n",
    "\n",
    "RdGn = ListedColormap(['red', 'green'])\n",
    "plt.style.use('ggplot')\n",
    "plt.rcParams['figure.figsize'] = (12, 8)"
   ]
  },
  {
   "cell_type": "code",
   "execution_count": null,
   "metadata": {},
   "outputs": [],
   "source": [
    "from sklearn.datasets import make_classification, make_circles\n",
    "from sklearn.linear_model import LogisticRegression\n",
    "from sklearn.model_selection import train_test_split\n",
    "from sklearn.metrics import accuracy_score\n",
    "from sklearn.preprocessing import StandardScaler"
   ]
  },
  {
   "cell_type": "code",
   "execution_count": null,
   "metadata": {},
   "outputs": [],
   "source": [
    "# вспомогательная функция\n",
    "def plot_classification(X, y, model, show_line=False, title='', X_transform=None):\n",
    "    X_pred = X_transform(X) if X_transform is not None else X\n",
    "    pred = model.predict(X_pred)\n",
    "    \n",
    "    idx = (y == pred) & (y == 1)\n",
    "    plt.scatter(X[idx, 0], X[idx, 1], color='green', label='true=1, pred=1')\n",
    "\n",
    "    idx = (y != pred) & (y == 1)\n",
    "    plt.scatter(X[idx, 0], X[idx, 1], color='blue', label='true=1, pred=0')\n",
    "\n",
    "    idx = (y == pred) & (y == 0)\n",
    "    plt.scatter(X[idx, 0], X[idx, 1], color='red', label='true=0, pred=0')\n",
    "\n",
    "    idx = (y != pred) & (y == 0)\n",
    "    plt.scatter(X[idx, 0], X[idx, 1], color='yellow', label='true=0, pred=1')\n",
    "\n",
    "    X1, X2 = X[:, 0], X[:, 1]\n",
    "    X1 = np.linspace(X1.min(), X1.max(), 128)\n",
    "    X2 = np.linspace(X2.min(), X2.max(), 128)\n",
    "    X1, X2 = np.meshgrid(X1, X2)\n",
    "    Z = np.c_[X1.flatten(), X2.flatten()]\n",
    "    Z = X_transform(Z) if X_transform is not None else Z\n",
    "    Z = model.predict(Z).reshape(X1.shape)\n",
    "\n",
    "    x_plt = np.linspace(X1.min(), X1.max(), 2)\n",
    "    y_plt = -(model.intercept_[0] + model.coef_[0, 0] * x_plt) / model.coef_[0, 1]\n",
    "    plt.contourf(X1, X2, Z, levels=2, cmap=RdGn, alpha=0.05)\n",
    "    if show_line:\n",
    "        plt.plot(x_plt, y_plt, color='purple', label='Разделяющяя прямая')\n",
    "    plt.title(title)\n",
    "    plt.legend()"
   ]
  },
  {
   "cell_type": "markdown",
   "metadata": {},
   "source": [
    "Изучим логистическую регрессию на примере синтетических данных.\n",
    "\n",
    "Сгенерируем выборку размера $N = 1024$ из двухмерного нормального распределения $$X_1, \\ldots, X_N \\sim \\Normal(0, I^{2x2}).$$\n",
    "\n",
    "В качестве целевой переменной рассмотрим $$ y = (y_1, \\ldots, y_N), \\quad y_k = [2 x_{k1} - 3 x_{k2} + \\eps_k > 0], \\quad \\eps_k \\sim \\Normal(0, 1a).$$"
   ]
  },
  {
   "cell_type": "code",
   "execution_count": null,
   "metadata": {},
   "outputs": [],
   "source": [
    "N = 1024\n",
    "d = 2\n",
    "\n",
    "np.random.seed(42)\n",
    "\n",
    "X = np.random.normal(size=(N, d))\n",
    "y = (2 * X[:, 0] - 3 * X[:, 1] + np.random.normal(scale=1, size=N) > 1).astype(int)"
   ]
  },
  {
   "cell_type": "markdown",
   "metadata": {},
   "source": [
    "Построим график:"
   ]
  },
  {
   "cell_type": "code",
   "execution_count": null,
   "metadata": {},
   "outputs": [],
   "source": [
    "plt.figure()\n",
    "plt.scatter(X[:, 0], X[:, 1], c=y, cmap=RdGn)\n",
    "plt.show()"
   ]
  },
  {
   "cell_type": "markdown",
   "metadata": {},
   "source": [
    "# 1. Классическая логистическая регрессия"
   ]
  },
  {
   "cell_type": "code",
   "execution_count": null,
   "metadata": {},
   "outputs": [],
   "source": [
    "# учим классическую логистическую регрессию"
   ]
  },
  {
   "cell_type": "markdown",
   "metadata": {},
   "source": [
    "Посмотрим на получившиеся коэффициенты:"
   ]
  },
  {
   "cell_type": "code",
   "execution_count": null,
   "metadata": {},
   "outputs": [],
   "source": [
    "# code"
   ]
  },
  {
   "cell_type": "markdown",
   "metadata": {},
   "source": [
    "Решающее правило выглядит так: `y = (coef_ @ x + intercept_) > 0`.\n",
    "\n",
    "\n",
    "__Задача:__ Выразить отсюда разделяющую прямую:"
   ]
  },
  {
   "cell_type": "code",
   "execution_count": null,
   "metadata": {},
   "outputs": [],
   "source": [
    "b = # code\n",
    "a = # code\n",
    "\n",
    "print(f'X2 = {a:.4f} * X1 + {b: .4f}')"
   ]
  },
  {
   "cell_type": "code",
   "execution_count": null,
   "metadata": {},
   "outputs": [],
   "source": [
    "plot_classification(X, y, model, show_line=True, title='Логистическая регрессия')"
   ]
  },
  {
   "cell_type": "markdown",
   "metadata": {},
   "source": [
    "# 2. Регуляризация в логистической регрессии\n",
    "\n",
    "Рассмотрим 2 варианта регуляризации:\n",
    "* $L_1$-регуляризация: обладает свойством отбора значимых признаков;\n",
    "* $L_2$-регуляризаций: сдерживает рост коэффициентов."
   ]
  },
  {
   "cell_type": "code",
   "execution_count": null,
   "metadata": {},
   "outputs": [],
   "source": [
    "N = 256\n",
    "\n",
    "X, y = make_classification(n_samples=N, \n",
    "                           n_features=10, \n",
    "                           n_informative=4, \n",
    "                           n_redundant=6, \n",
    "                           n_repeated=0,\n",
    "                           class_sep=1.0,\n",
    "                           scale=1,\n",
    "                           n_clusters_per_class=1,\n",
    "                           random_state=42)\n",
    "print('X shape:', X.shape)"
   ]
  },
  {
   "cell_type": "markdown",
   "metadata": {},
   "source": [
    "## 2.1. $L_1$-регуляризация\n",
    "Обучим логистическую регрессию с L1 регуляризацией:"
   ]
  },
  {
   "cell_type": "code",
   "execution_count": null,
   "metadata": {},
   "outputs": [],
   "source": [
    "# учим логистической регрессию с L1"
   ]
  },
  {
   "cell_type": "markdown",
   "metadata": {},
   "source": [
    "Посмотрев на коэффициенты, видим эффект отбора признаков."
   ]
  },
  {
   "cell_type": "code",
   "execution_count": null,
   "metadata": {},
   "outputs": [],
   "source": [
    "# смотрим коэффициенты"
   ]
  },
  {
   "cell_type": "markdown",
   "metadata": {},
   "source": [
    "Построим график влияния коэффициента регуляризации на величину коэффициентов:"
   ]
  },
  {
   "cell_type": "code",
   "execution_count": null,
   "metadata": {},
   "outputs": [],
   "source": [
    "C_list = np.logspace(-3, 3, 128)\n",
    "coef_list = []\n",
    "\n",
    "for C in C_list:\n",
    "    model_l1 = # обучение L1\n",
    "    coef_list.append(model_l1.coef_[0])\n",
    "\n",
    "coef_list = np.array(coef_list)\n",
    "print(coef_list.shape)\n",
    "\n",
    "plt.figure(figsize=(12,5))\n",
    "for idx in range(coef_list.shape[1]):\n",
    "    plt.plot(np.log10(C_list), coef_list[:, idx], label=f'Признак {idx}')\n",
    "    \n",
    "plt.xlabel('log(alpha)')\n",
    "plt.ylabel('Значение коэффициента')\n",
    "plt.legend()\n",
    "plt.show()"
   ]
  },
  {
   "cell_type": "code",
   "execution_count": null,
   "metadata": {},
   "outputs": [],
   "source": [
    "plt.figure(figsize=(12, 5))\n",
    "plt.plot(np.log10(C_list), (coef_list > 0).sum(axis=1), color='blue')\n",
    "plt.ylabel('Число значимых признаков')\n",
    "plt.xlabel('-log(C)')\n",
    "plt.show()"
   ]
  },
  {
   "cell_type": "markdown",
   "metadata": {},
   "source": [
    "## 2.2. $L_2$-регуляризация\n",
    "\n",
    "Обучим логистическую регрессию с L2 регуляризацией:"
   ]
  },
  {
   "cell_type": "code",
   "execution_count": null,
   "metadata": {},
   "outputs": [],
   "source": [
    "# учим логистической регрессию с L2"
   ]
  },
  {
   "cell_type": "markdown",
   "metadata": {},
   "source": [
    "В этот раз все коэффициенты отличны от нуля:"
   ]
  },
  {
   "cell_type": "code",
   "execution_count": null,
   "metadata": {},
   "outputs": [],
   "source": [
    "# смотрим на коэффициенты"
   ]
  },
  {
   "cell_type": "markdown",
   "metadata": {},
   "source": [
    "Построим график влияния коэффициента регуляризации на величину коэффициентов:"
   ]
  },
  {
   "cell_type": "code",
   "execution_count": null,
   "metadata": {},
   "outputs": [],
   "source": [
    "C_list = np.logspace(-1, 4, 128)\n",
    "coef_list = []\n",
    "\n",
    "for C in C_list:\n",
    "    model_l2 = LogisticRegression(penalty='l2', C=1 / C).fit(X, y)\n",
    "    coef_list.append(model_l2.coef_[0])\n",
    "\n",
    "coef_list = np.array(coef_list)\n",
    "print(coef_list.shape)\n",
    "\n",
    "plt.figure(figsize=(12,5))\n",
    "for idx in range(coef_list.shape[1]):\n",
    "    plt.plot(np.log10(C_list), coef_list[:, idx], label=f'Признак {idx}')\n",
    "    \n",
    "plt.xlabel('log(alpha)')\n",
    "plt.ylabel('Значение коэффициента')\n",
    "plt.legend()\n",
    "plt.show()"
   ]
  },
  {
   "cell_type": "markdown",
   "metadata": {},
   "source": [
    "## 3. Случай линейно неразделимых данных\n",
    "\n",
    "Рассмотрим теперь выборку наблюдений, сосредоточенную вокруг 2 концентрических окружностей:\n",
    "* окружность радиуса 1;\n",
    "* окружность радиуса 0.8."
   ]
  },
  {
   "cell_type": "code",
   "execution_count": null,
   "metadata": {},
   "outputs": [],
   "source": [
    "N = 512\n",
    "\n",
    "X, y = make_circles(N, random_state=42, noise=0.05, factor=0.8)"
   ]
  },
  {
   "cell_type": "code",
   "execution_count": null,
   "metadata": {},
   "outputs": [],
   "source": [
    "plt.figure()\n",
    "plt.scatter(X[:, 0], X[:, 1], c=y, cmap=RdGn)\n",
    "plt.show()"
   ]
  },
  {
   "cell_type": "markdown",
   "metadata": {},
   "source": [
    "Обучим простую логистическую регрессию:"
   ]
  },
  {
   "cell_type": "code",
   "execution_count": null,
   "metadata": {},
   "outputs": [],
   "source": [
    "# учим простую логистическую регрессию"
   ]
  },
  {
   "cell_type": "markdown",
   "metadata": {},
   "source": [
    "Смотрим коэффициенты модели:"
   ]
  },
  {
   "cell_type": "code",
   "execution_count": null,
   "metadata": {},
   "outputs": [],
   "source": [
    "# смотрим коэффициенты"
   ]
  },
  {
   "cell_type": "code",
   "execution_count": null,
   "metadata": {},
   "outputs": [],
   "source": [
    "plot_classification(X, y, model, show_line=True)"
   ]
  },
  {
   "cell_type": "markdown",
   "metadata": {},
   "source": [
    "## 3.1. Преобразование признакового пространства\n",
    "\n",
    "Перейдем к полярным координатам:\n",
    "* $X'_1 = \\arctan\\left(\\frac{X_1}{X_2}\\right)$;\n",
    "* $X'_2 = \\sqrt{X_1^2 + X_2^2}$.\n",
    "\n",
    "__Задача:__ определить функцию X_transform."
   ]
  },
  {
   "cell_type": "code",
   "execution_count": null,
   "metadata": {},
   "outputs": [],
   "source": [
    "def X_transform(X):\n",
    "    # преобразование признаков"
   ]
  },
  {
   "cell_type": "code",
   "execution_count": null,
   "metadata": {},
   "outputs": [],
   "source": [
    "Xt = X_transform(X)\n",
    "\n",
    "plt.figure()\n",
    "plt.scatter(Xt[:, 0], Xt[:, 1], c=y, cmap=RdGn)\n",
    "plt.show()"
   ]
  },
  {
   "cell_type": "markdown",
   "metadata": {},
   "source": [
    "Обучаем модель:"
   ]
  },
  {
   "cell_type": "code",
   "execution_count": null,
   "metadata": {},
   "outputs": [],
   "source": [
    "# учим модель в полярных координатах"
   ]
  },
  {
   "cell_type": "code",
   "execution_count": null,
   "metadata": {},
   "outputs": [],
   "source": [
    "# смотрим коэффициенты"
   ]
  },
  {
   "cell_type": "code",
   "execution_count": null,
   "metadata": {},
   "outputs": [],
   "source": [
    "plot_classification(Xt, y, model_polar, show_line=True)"
   ]
  },
  {
   "cell_type": "markdown",
   "metadata": {},
   "source": [
    "Построим график классификации для исходных признаков:"
   ]
  },
  {
   "cell_type": "code",
   "execution_count": null,
   "metadata": {},
   "outputs": [],
   "source": [
    "plot_classification(X, y, model_polar, show_line=False, X_transform=X_transform)"
   ]
  },
  {
   "cell_type": "markdown",
   "metadata": {},
   "source": [
    "# 3. Оценка качества модели. Введение\n",
    "\n",
    "\n",
    "__Титаник:__\n",
    "* survived -- спасен или нет;\n",
    "* pclass -- социально-экономический статус (1 -- upper, 2 -- middle, 3 -- lower);\n",
    "* sex -- пол;\n",
    "* age -- возраст;\n",
    "* sibsp -- число ближайших родственников на борту (муж/жена, брат/сестра);\n",
    "* parch -- число родителей/детей на борту;\n",
    "* fare -- плата за проезд;\n",
    "* embarked -- место посадки."
   ]
  },
  {
   "cell_type": "code",
   "execution_count": null,
   "metadata": {},
   "outputs": [],
   "source": [
    "frame = sns.load_dataset('titanic')\n",
    "frame = frame[['pclass', 'sex', 'age', 'fare', 'survived']].dropna()\n",
    "\n",
    "print('Shape:', frame.shape)\n",
    "frame.head()"
   ]
  },
  {
   "cell_type": "markdown",
   "metadata": {},
   "source": [
    "Построим модель, которая будет предсказывать выживание человека."
   ]
  },
  {
   "cell_type": "code",
   "execution_count": null,
   "metadata": {},
   "outputs": [],
   "source": [
    "X = frame[['pclass', 'sex', 'age', 'fare']].copy()\n",
    "y = frame['survived'].copy()"
   ]
  },
  {
   "cell_type": "markdown",
   "metadata": {},
   "source": [
    "Преобразуем категориальные признаки:"
   ]
  },
  {
   "cell_type": "code",
   "execution_count": null,
   "metadata": {},
   "outputs": [],
   "source": [
    "# категориальные признаки"
   ]
  },
  {
   "cell_type": "markdown",
   "metadata": {},
   "source": [
    "Для того, чтобы проверить качество модели, разделим выборку на 2 части:\n",
    "* Тренировочную часть будем использовать для обучения модели.\n",
    "* Тестовую часть оставим для оценки качества модели."
   ]
  },
  {
   "cell_type": "code",
   "execution_count": null,
   "metadata": {},
   "outputs": [],
   "source": [
    "X_train, X_test, y_train, y_test = train_test_split(X, y, test_size=0.2, random_state=42)\n",
    "X_train = X_train.copy()\n",
    "X_test = X_test.copy()\n",
    "y_train = y_train.copy()\n",
    "y_test = y_test.copy()\n",
    "\n",
    "print('Train:', X_train.shape[0])\n",
    "print('Test:', X_test.shape[0])"
   ]
  },
  {
   "cell_type": "markdown",
   "metadata": {},
   "source": [
    "__Задача:__ Отнормировать числовые признаки."
   ]
  },
  {
   "cell_type": "code",
   "execution_count": null,
   "metadata": {},
   "outputs": [],
   "source": [
    "# нормируем числовые признаки"
   ]
  },
  {
   "cell_type": "markdown",
   "metadata": {},
   "source": [
    "Обучим логистическую регрессию:"
   ]
  },
  {
   "cell_type": "code",
   "execution_count": null,
   "metadata": {},
   "outputs": [],
   "source": [
    "# учим простую логистическую регрессию"
   ]
  },
  {
   "cell_type": "code",
   "execution_count": null,
   "metadata": {},
   "outputs": [],
   "source": [
    "# предсказываем train и test"
   ]
  },
  {
   "cell_type": "markdown",
   "metadata": {},
   "source": [
    "Считаем метрику __Accuracy__: `#[true == pred] / N`\n",
    "\n",
    "__Задача:__ написать функцию, которая считает метрику accuracy."
   ]
  },
  {
   "cell_type": "code",
   "execution_count": null,
   "metadata": {},
   "outputs": [],
   "source": [
    "def accuracy_score(true, pred):\n",
    "    return (true == pred).sum() / true.shape[0]"
   ]
  },
  {
   "cell_type": "code",
   "execution_count": null,
   "metadata": {},
   "outputs": [],
   "source": [
    "print('Train accuracy:', accuracy_score(y_train, pred_train))\n",
    "print('Test accuracy:', accuracy_score(y_test, pred_test))"
   ]
  },
  {
   "cell_type": "markdown",
   "metadata": {},
   "source": [
    "## 3.1. Регуляризация и влияние на переобучение\n",
    "\n",
    "Одним из методов борьбы с переобучением является регуляризация.\n",
    "\n",
    "Существуют разные методы выбора регуляризации и настройки её параметров:\n",
    "* метод отложенной выборки;\n",
    "* метод кросс-валидации;\n",
    "* байесовские методы (например, метод максимальной обоснованности).\n",
    "\n",
    "__$L_1$-регуляризация:__"
   ]
  },
  {
   "cell_type": "code",
   "execution_count": null,
   "metadata": {},
   "outputs": [],
   "source": [
    "C_list = np.logspace(-3, 3, 128)\n",
    "coef_list = []\n",
    "train_acc = []\n",
    "test_acc = []\n",
    "\n",
    "for C in C_list:\n",
    "    model_l1 = # обучение L1\n",
    "    \n",
    "    pred_train = model_l1.predict(X_train)\n",
    "    pred_test = model_l1.predict(X_test)\n",
    "\n",
    "    train_acc.append(accuracy_score(y_train, pred_train))\n",
    "    test_acc.append(accuracy_score(y_test, pred_test))\n",
    "    \n",
    "    coef_list.append(model_l1.coef_[0])\n",
    "\n",
    "coef_list = np.array(coef_list)\n",
    "\n",
    "_, [ax1, ax2] = plt.subplots(2, 1, figsize=(12,10))\n",
    "for idx in range(coef_list.shape[1]):\n",
    "    ax1.plot(np.log10(C_list), coef_list[:, idx], label=f'{X.columns[idx]}')\n",
    "    \n",
    "ax2.plot(np.log10(C_list), train_acc, color='blue', label='Train')\n",
    "ax2.plot(np.log10(C_list), test_acc, color='green', label='Test')\n",
    "\n",
    "ax1.set_title('$L_1$-регуляризация')\n",
    "ax1.set_xlabel('log(alpha)')\n",
    "ax2.set_xlabel('log(alpha)')\n",
    "ax1.set_ylabel('Значение коэффициента')\n",
    "ax2.set_ylabel('Accuracy')\n",
    "ax1.legend()\n",
    "ax2.legend()\n",
    "\n",
    "plt.show()"
   ]
  },
  {
   "cell_type": "markdown",
   "metadata": {},
   "source": [
    "__$L_2$-регуляризация:__"
   ]
  },
  {
   "cell_type": "code",
   "execution_count": null,
   "metadata": {},
   "outputs": [],
   "source": [
    "C_list = np.logspace(-3, 3, 128)\n",
    "coef_list = []\n",
    "train_acc = []\n",
    "test_acc = []\n",
    "\n",
    "for C in C_list:\n",
    "    model_l2 = # обучение L2\n",
    "    \n",
    "    pred_train = model_l2.predict(X_train)\n",
    "    pred_test = model_l2.predict(X_test)\n",
    "\n",
    "    train_acc.append(accuracy_score(y_train, pred_train))\n",
    "    test_acc.append(accuracy_score(y_test, pred_test))\n",
    "    \n",
    "    coef_list.append(model_l2.coef_[0])\n",
    "\n",
    "coef_list = np.array(coef_list)\n",
    "\n",
    "_, [ax1, ax2] = plt.subplots(2, 1, figsize=(12,10))\n",
    "for idx in range(coef_list.shape[1]):\n",
    "    ax1.plot(np.log10(C_list), coef_list[:, idx], label=f'{X.columns[idx]}')\n",
    "    \n",
    "ax2.plot(np.log10(C_list), train_acc, color='blue', label='Train')\n",
    "ax2.plot(np.log10(C_list), test_acc, color='green', label='Test')\n",
    "\n",
    "ax1.set_title('$L_2$-регуляризация')\n",
    "ax1.set_xlabel('log(alpha)')\n",
    "ax2.set_xlabel('log(alpha)')\n",
    "ax1.set_ylabel('Значение коэффициента')\n",
    "ax2.set_ylabel('Accuracy')\n",
    "ax1.legend()\n",
    "ax2.legend()\n",
    "\n",
    "plt.show()"
   ]
  },
  {
   "cell_type": "code",
   "execution_count": null,
   "metadata": {},
   "outputs": [],
   "source": []
  }
 ],
 "metadata": {
  "kernelspec": {
   "display_name": "Python 3 (ipykernel)",
   "language": "python",
   "name": "python3"
  },
  "language_info": {
   "codemirror_mode": {
    "name": "ipython",
    "version": 3
   },
   "file_extension": ".py",
   "mimetype": "text/x-python",
   "name": "python",
   "nbconvert_exporter": "python",
   "pygments_lexer": "ipython3",
   "version": "3.8.10"
  }
 },
 "nbformat": 4,
 "nbformat_minor": 4
}
